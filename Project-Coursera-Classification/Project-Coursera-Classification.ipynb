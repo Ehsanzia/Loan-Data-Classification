{
 "cells": [
  {
   "cell_type": "markdown",
   "metadata": {},
   "source": [
    "<a href=\"https://www.bigdatauniversity.com\"><img src = \"https://ibm.box.com/shared/static/cw2c7r3o20w9zn8gkecaeyjhgw3xdgbj.png\" width = 400, align = \"center\"></a>\n",
    "\n",
    "<h1 align=center><font size = 5> Classification with Python</font></h1>"
   ]
  },
  {
   "cell_type": "markdown",
   "metadata": {},
   "source": [
    "# Project"
   ]
  },
  {
   "cell_type": "markdown",
   "metadata": {},
   "source": [
    "In this notebook we try to practice all the classification algorithms that we learned in this course.\n",
    "\n",
    "We load a dataset using Pandas library, and apply the following algorithms, and find the best one for this specific dataset by accuracy evaluation methods.\n",
    "\n",
    "Lets first load required libraries:"
   ]
  },
  {
   "cell_type": "code",
   "execution_count": 18,
   "metadata": {},
   "outputs": [],
   "source": [
    "import itertools\n",
    "import numpy as np\n",
    "import matplotlib.pyplot as plt\n",
    "from matplotlib.ticker import NullFormatter\n",
    "import pandas as pd\n",
    "import numpy as np\n",
    "import matplotlib.ticker as ticker\n",
    "from sklearn import preprocessing\n",
    "%matplotlib inline"
   ]
  },
  {
   "cell_type": "markdown",
   "metadata": {},
   "source": [
    "### About dataset"
   ]
  },
  {
   "cell_type": "markdown",
   "metadata": {},
   "source": [
    "This dataset is about past loans. The __Loan_train.csv__ data set includes details of 346 customers whose loan are already paid off or defaulted. It includes following fields:\n",
    "\n",
    "| Field          | Description                                                                           |\n",
    "|----------------|---------------------------------------------------------------------------------------|\n",
    "| Loan_status    | Whether a loan is paid off on in collection                                           |\n",
    "| Principal      | Basic principal loan amount at the                                                    |\n",
    "| Terms          | Origination terms which can be weekly (7 days), biweekly, and monthly payoff schedule |\n",
    "| Effective_date | When the loan got originated and took effects                                         |\n",
    "| Due_date       | Since it’s one-time payoff schedule, each loan has one single due date                |\n",
    "| Age            | Age of applicant                                                                      |\n",
    "| Education      | Education of applicant                                                                |\n",
    "| Gender         | The gender of applicant                                                               |"
   ]
  },
  {
   "cell_type": "markdown",
   "metadata": {},
   "source": [
    "Lets download the dataset"
   ]
  },
  {
   "cell_type": "code",
   "execution_count": 19,
   "metadata": {},
   "outputs": [
    {
     "name": "stdout",
     "output_type": "stream",
     "text": [
      "--2021-06-08 18:51:40--  https://s3-api.us-geo.objectstorage.softlayer.net/cf-courses-data/CognitiveClass/ML0101ENv3/labs/loan_train.csv\n",
      "Resolving s3-api.us-geo.objectstorage.softlayer.net (s3-api.us-geo.objectstorage.softlayer.net)... 67.228.254.196\n",
      "Connecting to s3-api.us-geo.objectstorage.softlayer.net (s3-api.us-geo.objectstorage.softlayer.net)|67.228.254.196|:443... connected.\n",
      "HTTP request sent, awaiting response... 200 OK\n",
      "Length: 23101 (23K) [text/csv]\n",
      "Saving to: ‘loan_train.csv’\n",
      "\n",
      "loan_train.csv      100%[===================>]  22.56K  --.-KB/s    in 0.001s  \n",
      "\n",
      "2021-06-08 18:51:41 (15.4 MB/s) - ‘loan_train.csv’ saved [23101/23101]\n",
      "\n"
     ]
    }
   ],
   "source": [
    "!wget -O loan_train.csv https://s3-api.us-geo.objectstorage.softlayer.net/cf-courses-data/CognitiveClass/ML0101ENv3/labs/loan_train.csv"
   ]
  },
  {
   "cell_type": "markdown",
   "metadata": {},
   "source": [
    "## Load data from CSV file"
   ]
  },
  {
   "cell_type": "code",
   "execution_count": 20,
   "metadata": {},
   "outputs": [
    {
     "data": {
      "text/html": [
       "<div>\n",
       "<style scoped>\n",
       "    .dataframe tbody tr th:only-of-type {\n",
       "        vertical-align: middle;\n",
       "    }\n",
       "\n",
       "    .dataframe tbody tr th {\n",
       "        vertical-align: top;\n",
       "    }\n",
       "\n",
       "    .dataframe thead th {\n",
       "        text-align: right;\n",
       "    }\n",
       "</style>\n",
       "<table border=\"1\" class=\"dataframe\">\n",
       "  <thead>\n",
       "    <tr style=\"text-align: right;\">\n",
       "      <th></th>\n",
       "      <th>Unnamed: 0</th>\n",
       "      <th>Unnamed: 0.1</th>\n",
       "      <th>loan_status</th>\n",
       "      <th>Principal</th>\n",
       "      <th>terms</th>\n",
       "      <th>effective_date</th>\n",
       "      <th>due_date</th>\n",
       "      <th>age</th>\n",
       "      <th>education</th>\n",
       "      <th>Gender</th>\n",
       "    </tr>\n",
       "  </thead>\n",
       "  <tbody>\n",
       "    <tr>\n",
       "      <th>0</th>\n",
       "      <td>0</td>\n",
       "      <td>0</td>\n",
       "      <td>PAIDOFF</td>\n",
       "      <td>1000</td>\n",
       "      <td>30</td>\n",
       "      <td>9/8/2016</td>\n",
       "      <td>10/7/2016</td>\n",
       "      <td>45</td>\n",
       "      <td>High School or Below</td>\n",
       "      <td>male</td>\n",
       "    </tr>\n",
       "    <tr>\n",
       "      <th>1</th>\n",
       "      <td>2</td>\n",
       "      <td>2</td>\n",
       "      <td>PAIDOFF</td>\n",
       "      <td>1000</td>\n",
       "      <td>30</td>\n",
       "      <td>9/8/2016</td>\n",
       "      <td>10/7/2016</td>\n",
       "      <td>33</td>\n",
       "      <td>Bechalor</td>\n",
       "      <td>female</td>\n",
       "    </tr>\n",
       "    <tr>\n",
       "      <th>2</th>\n",
       "      <td>3</td>\n",
       "      <td>3</td>\n",
       "      <td>PAIDOFF</td>\n",
       "      <td>1000</td>\n",
       "      <td>15</td>\n",
       "      <td>9/8/2016</td>\n",
       "      <td>9/22/2016</td>\n",
       "      <td>27</td>\n",
       "      <td>college</td>\n",
       "      <td>male</td>\n",
       "    </tr>\n",
       "    <tr>\n",
       "      <th>3</th>\n",
       "      <td>4</td>\n",
       "      <td>4</td>\n",
       "      <td>PAIDOFF</td>\n",
       "      <td>1000</td>\n",
       "      <td>30</td>\n",
       "      <td>9/9/2016</td>\n",
       "      <td>10/8/2016</td>\n",
       "      <td>28</td>\n",
       "      <td>college</td>\n",
       "      <td>female</td>\n",
       "    </tr>\n",
       "    <tr>\n",
       "      <th>4</th>\n",
       "      <td>6</td>\n",
       "      <td>6</td>\n",
       "      <td>PAIDOFF</td>\n",
       "      <td>1000</td>\n",
       "      <td>30</td>\n",
       "      <td>9/9/2016</td>\n",
       "      <td>10/8/2016</td>\n",
       "      <td>29</td>\n",
       "      <td>college</td>\n",
       "      <td>male</td>\n",
       "    </tr>\n",
       "  </tbody>\n",
       "</table>\n",
       "</div>"
      ],
      "text/plain": [
       "   Unnamed: 0  Unnamed: 0.1 loan_status  Principal  terms effective_date  \\\n",
       "0           0             0     PAIDOFF       1000     30       9/8/2016   \n",
       "1           2             2     PAIDOFF       1000     30       9/8/2016   \n",
       "2           3             3     PAIDOFF       1000     15       9/8/2016   \n",
       "3           4             4     PAIDOFF       1000     30       9/9/2016   \n",
       "4           6             6     PAIDOFF       1000     30       9/9/2016   \n",
       "\n",
       "    due_date  age             education  Gender  \n",
       "0  10/7/2016   45  High School or Below    male  \n",
       "1  10/7/2016   33              Bechalor  female  \n",
       "2  9/22/2016   27               college    male  \n",
       "3  10/8/2016   28               college  female  \n",
       "4  10/8/2016   29               college    male  "
      ]
     },
     "execution_count": 20,
     "metadata": {},
     "output_type": "execute_result"
    }
   ],
   "source": [
    "df = pd.read_csv('loan_train.csv')\n",
    "df.head()"
   ]
  },
  {
   "cell_type": "code",
   "execution_count": 21,
   "metadata": {},
   "outputs": [
    {
     "data": {
      "text/plain": [
       "(346, 10)"
      ]
     },
     "execution_count": 21,
     "metadata": {},
     "output_type": "execute_result"
    }
   ],
   "source": [
    "df.shape"
   ]
  },
  {
   "cell_type": "markdown",
   "metadata": {},
   "source": [
    "**Convert to date time object**"
   ]
  },
  {
   "cell_type": "code",
   "execution_count": 22,
   "metadata": {},
   "outputs": [
    {
     "data": {
      "text/html": [
       "<div>\n",
       "<style scoped>\n",
       "    .dataframe tbody tr th:only-of-type {\n",
       "        vertical-align: middle;\n",
       "    }\n",
       "\n",
       "    .dataframe tbody tr th {\n",
       "        vertical-align: top;\n",
       "    }\n",
       "\n",
       "    .dataframe thead th {\n",
       "        text-align: right;\n",
       "    }\n",
       "</style>\n",
       "<table border=\"1\" class=\"dataframe\">\n",
       "  <thead>\n",
       "    <tr style=\"text-align: right;\">\n",
       "      <th></th>\n",
       "      <th>Unnamed: 0</th>\n",
       "      <th>Unnamed: 0.1</th>\n",
       "      <th>loan_status</th>\n",
       "      <th>Principal</th>\n",
       "      <th>terms</th>\n",
       "      <th>effective_date</th>\n",
       "      <th>due_date</th>\n",
       "      <th>age</th>\n",
       "      <th>education</th>\n",
       "      <th>Gender</th>\n",
       "    </tr>\n",
       "  </thead>\n",
       "  <tbody>\n",
       "    <tr>\n",
       "      <th>0</th>\n",
       "      <td>0</td>\n",
       "      <td>0</td>\n",
       "      <td>PAIDOFF</td>\n",
       "      <td>1000</td>\n",
       "      <td>30</td>\n",
       "      <td>2016-09-08</td>\n",
       "      <td>2016-10-07</td>\n",
       "      <td>45</td>\n",
       "      <td>High School or Below</td>\n",
       "      <td>male</td>\n",
       "    </tr>\n",
       "    <tr>\n",
       "      <th>1</th>\n",
       "      <td>2</td>\n",
       "      <td>2</td>\n",
       "      <td>PAIDOFF</td>\n",
       "      <td>1000</td>\n",
       "      <td>30</td>\n",
       "      <td>2016-09-08</td>\n",
       "      <td>2016-10-07</td>\n",
       "      <td>33</td>\n",
       "      <td>Bechalor</td>\n",
       "      <td>female</td>\n",
       "    </tr>\n",
       "    <tr>\n",
       "      <th>2</th>\n",
       "      <td>3</td>\n",
       "      <td>3</td>\n",
       "      <td>PAIDOFF</td>\n",
       "      <td>1000</td>\n",
       "      <td>15</td>\n",
       "      <td>2016-09-08</td>\n",
       "      <td>2016-09-22</td>\n",
       "      <td>27</td>\n",
       "      <td>college</td>\n",
       "      <td>male</td>\n",
       "    </tr>\n",
       "    <tr>\n",
       "      <th>3</th>\n",
       "      <td>4</td>\n",
       "      <td>4</td>\n",
       "      <td>PAIDOFF</td>\n",
       "      <td>1000</td>\n",
       "      <td>30</td>\n",
       "      <td>2016-09-09</td>\n",
       "      <td>2016-10-08</td>\n",
       "      <td>28</td>\n",
       "      <td>college</td>\n",
       "      <td>female</td>\n",
       "    </tr>\n",
       "    <tr>\n",
       "      <th>4</th>\n",
       "      <td>6</td>\n",
       "      <td>6</td>\n",
       "      <td>PAIDOFF</td>\n",
       "      <td>1000</td>\n",
       "      <td>30</td>\n",
       "      <td>2016-09-09</td>\n",
       "      <td>2016-10-08</td>\n",
       "      <td>29</td>\n",
       "      <td>college</td>\n",
       "      <td>male</td>\n",
       "    </tr>\n",
       "  </tbody>\n",
       "</table>\n",
       "</div>"
      ],
      "text/plain": [
       "   Unnamed: 0  Unnamed: 0.1 loan_status  Principal  terms effective_date  \\\n",
       "0           0             0     PAIDOFF       1000     30     2016-09-08   \n",
       "1           2             2     PAIDOFF       1000     30     2016-09-08   \n",
       "2           3             3     PAIDOFF       1000     15     2016-09-08   \n",
       "3           4             4     PAIDOFF       1000     30     2016-09-09   \n",
       "4           6             6     PAIDOFF       1000     30     2016-09-09   \n",
       "\n",
       "    due_date  age             education  Gender  \n",
       "0 2016-10-07   45  High School or Below    male  \n",
       "1 2016-10-07   33              Bechalor  female  \n",
       "2 2016-09-22   27               college    male  \n",
       "3 2016-10-08   28               college  female  \n",
       "4 2016-10-08   29               college    male  "
      ]
     },
     "execution_count": 22,
     "metadata": {},
     "output_type": "execute_result"
    }
   ],
   "source": [
    "df['due_date']=pd.to_datetime(df['due_date'])\n",
    "df['effective_date'] = pd.to_datetime(df['effective_date'])\n",
    "df.head()"
   ]
  },
  {
   "cell_type": "markdown",
   "metadata": {},
   "source": [
    "# Data Visulaization and preprocessing"
   ]
  },
  {
   "cell_type": "code",
   "execution_count": 23,
   "metadata": {},
   "outputs": [
    {
     "data": {
      "text/plain": [
       "PAIDOFF       260\n",
       "COLLECTION     86\n",
       "Name: loan_status, dtype: int64"
      ]
     },
     "execution_count": 23,
     "metadata": {},
     "output_type": "execute_result"
    }
   ],
   "source": [
    "df['loan_status'].value_counts()"
   ]
  },
  {
   "cell_type": "markdown",
   "metadata": {},
   "source": [
    "260 people have paid off the loan on time while 86 have gone into collection."
   ]
  },
  {
   "cell_type": "markdown",
   "metadata": {},
   "source": [
    "Lets plot some columns to understand data better."
   ]
  },
  {
   "cell_type": "code",
   "execution_count": 8,
   "metadata": {},
   "outputs": [
    {
     "name": "stdout",
     "output_type": "stream",
     "text": [
      "Collecting package metadata (current_repodata.json): done\n",
      "Solving environment: failed with initial frozen solve. Retrying with flexible solve.\n",
      "Solving environment: failed with repodata from current_repodata.json, will retry with next repodata source.\n",
      "Collecting package metadata (repodata.json): done\n",
      "Solving environment: failed with initial frozen solve. Retrying with flexible solve.\n",
      "Solving environment: done\n",
      "\n",
      "## Package Plan ##\n",
      "\n",
      "  environment location: /opt/conda/envs/Python-3.7-main\n",
      "\n",
      "  added / updated specs:\n",
      "    - seaborn\n",
      "\n",
      "\n",
      "The following packages will be downloaded:\n",
      "\n",
      "    package                    |            build\n",
      "    ---------------------------|-----------------\n",
      "    _libgcc_mutex-0.1          |             main           3 KB  anaconda\n",
      "    _py-xgboost-mutex-2.0      |            cpu_0           9 KB  anaconda\n",
      "    _pytorch_select-0.1        |            cpu_0           2 KB  anaconda\n",
      "    absl-py-0.10.0             |           py37_0         169 KB  anaconda\n",
      "    aiohttp-3.6.3              |   py37h7b6447c_0         626 KB  anaconda\n",
      "    argon2-cffi-20.1.0         |   py37h7b6447c_1          49 KB  anaconda\n",
      "    astor-0.8.1                |           py37_0          45 KB  anaconda\n",
      "    astropy-4.0.2              |   py37h7b6447c_0         7.6 MB  anaconda\n",
      "    astunparse-1.6.3           |             py_0          17 KB  anaconda\n",
      "    async-timeout-3.0.1        |           py37_0          12 KB  anaconda\n",
      "    async_generator-1.10       |   py37h28b3542_0          38 KB  anaconda\n",
      "    attrs-20.2.0               |             py_0          41 KB  anaconda\n",
      "    backcall-0.2.0             |             py_0          14 KB  anaconda\n",
      "    beautifulsoup4-4.9.3       |     pyhb0f4dca_0          87 KB  anaconda\n",
      "    biopython-1.78             |   py37h7b6447c_0         2.6 MB  anaconda\n",
      "    blas-1.0                   |              mkl           6 KB  anaconda\n",
      "    bleach-3.2.1               |             py_0         111 KB  anaconda\n",
      "    blinker-1.4                |           py37_0          21 KB  anaconda\n",
      "    blosc-1.19.0               |       hd408876_0          81 KB  anaconda\n",
      "    bokeh-2.2.3                |           py37_0         7.0 MB  anaconda\n",
      "    boto3-1.16.0               |             py_0          70 KB  anaconda\n",
      "    botocore-1.19.1            |             py_0         4.2 MB  anaconda\n",
      "    brotlipy-0.7.0             |py37h7b6447c_1000         348 KB  anaconda\n",
      "    bzip2-1.0.8                |       h7b6447c_0         105 KB  anaconda\n",
      "    c-ares-1.16.1              |       h7b6447c_0         112 KB  anaconda\n",
      "    ca-certificates-2020.10.14 |                0         128 KB  anaconda\n",
      "    cachetools-4.1.1           |             py_0          12 KB  anaconda\n",
      "    certifi-2020.6.20          |           py37_0         159 KB  anaconda\n",
      "    cffi-1.14.3                |   py37he30daa8_0         224 KB  anaconda\n",
      "    chardet-3.0.4              |        py37_1003         173 KB  anaconda\n",
      "    click-7.1.2                |             py_0          67 KB  anaconda\n",
      "    cloudpickle-1.6.0          |             py_0          29 KB  anaconda\n",
      "    cryptography-3.1.1         |   py37h1ba5d50_0         625 KB  anaconda\n",
      "    cx_oracle-8.0.1            |   py37h7b6447c_0         186 KB  anaconda\n",
      "    cycler-0.10.0              |           py37_0          13 KB  anaconda\n",
      "    cytoolz-0.11.0             |   py37h7b6447c_0         367 KB  anaconda\n",
      "    dask-core-2.30.0           |             py_0         639 KB  anaconda\n",
      "    dbus-1.13.18               |       hb2f20db_0         586 KB  anaconda\n",
      "    decorator-4.4.2            |             py_0          14 KB  anaconda\n",
      "    defusedxml-0.6.0           |             py_0          23 KB  anaconda\n",
      "    dill-0.3.2                 |             py_0          65 KB  anaconda\n",
      "    docutils-0.15.2            |           py37_0         736 KB  anaconda\n",
      "    entrypoints-0.3            |           py37_0          12 KB  anaconda\n",
      "    expat-2.2.10               |       he6710b0_2         192 KB  anaconda\n",
      "    fastcache-1.1.0            |   py37h7b6447c_0          31 KB  anaconda\n",
      "    fontconfig-2.13.0          |       h9420a91_0         291 KB  anaconda\n",
      "    freetds-1.00.97            |       h52ef933_0         2.4 MB  anaconda\n",
      "    freetype-2.10.4            |       h5ab3b9f_0         901 KB  anaconda\n",
      "    future-0.18.2              |           py37_1         720 KB  anaconda\n",
      "    gast-0.3.3                 |             py_0          14 KB  anaconda\n",
      "    glib-2.56.2                |       hd408876_0         5.0 MB  anaconda\n",
      "    gmp-6.1.2                  |       hb3b607b_0         744 KB  anaconda\n",
      "    google-auth-1.22.1         |             py_0          62 KB  anaconda\n",
      "    google-auth-oauthlib-0.4.1 |             py_2          21 KB  anaconda\n",
      "    google-pasta-0.2.0         |             py_0          44 KB  anaconda\n",
      "    grpcio-1.31.0              |   py37hf8bcb03_0         2.2 MB  anaconda\n",
      "    gst-plugins-base-1.14.0    |       hbbd80ab_1         6.3 MB  anaconda\n",
      "    gstreamer-1.14.0           |       hb453b48_1         3.8 MB  anaconda\n",
      "    h5py-2.10.0                |   py37h7918eee_0         1.2 MB  anaconda\n",
      "    hdf5-1.10.4                |       hb1b8bf9_0         5.3 MB  anaconda\n",
      "    html5lib-1.1               |             py_0          92 KB  anaconda\n",
      "    ibm-wsrt-py37main-keep-0.0.0|             2385           2 KB\n",
      "    ibm-wsrt-py37main-main-custom|             2385           2 KB\n",
      "    icu-58.2                   |       he6710b0_3        22.7 MB  anaconda\n",
      "    idna-2.10                  |             py_0          56 KB  anaconda\n",
      "    imageio-2.9.0              |             py_0         3.1 MB  anaconda\n",
      "    importlib-metadata-2.0.0   |             py_1          35 KB  anaconda\n",
      "    importlib_metadata-2.0.0   |                1          11 KB  anaconda\n",
      "    iniconfig-1.1.1            |             py_0           8 KB  anaconda\n",
      "    intel-openmp-2020.2        |              254         947 KB  anaconda\n",
      "    ipykernel-5.3.4            |   py37h5ca1d4c_0         176 KB  anaconda\n",
      "    ipython-7.18.1             |   py37h5ca1d4c_0         1.1 MB  anaconda\n",
      "    ipython_genutils-0.2.0     |           py37_0          39 KB  anaconda\n",
      "    ipywidgets-7.5.1           |             py_1         102 KB  anaconda\n",
      "    jedi-0.17.2                |           py37_0         950 KB  anaconda\n",
      "    jeepney-0.4.3              |             py_0          22 KB  anaconda\n",
      "    jinja2-2.11.2              |             py_0          97 KB  anaconda\n",
      "    jmespath-0.10.0            |             py_0          22 KB  anaconda\n",
      "    joblib-0.17.0              |             py_0         205 KB  anaconda\n",
      "    jpeg-9b                    |       habf39ab_1         247 KB  anaconda\n",
      "    json5-0.9.5                |             py_0          22 KB  anaconda\n",
      "    jsonschema-3.2.0           |             py_2          45 KB  anaconda\n",
      "    jupyter_client-6.1.7       |             py_0          76 KB  anaconda\n",
      "    jupyter_core-4.6.3         |           py37_0          75 KB  anaconda\n",
      "    jupyterlab-2.2.6           |             py_0         5.9 MB  anaconda\n",
      "    jupyterlab_pygments-0.1.2  |             py_0           8 KB  anaconda\n",
      "    jupyterlab_server-1.2.0    |             py_0          24 KB  anaconda\n",
      "    keras-applications-1.0.8   |             py_1          30 KB  anaconda\n",
      "    keras-preprocessing-1.1.0  |             py_1          36 KB  anaconda\n",
      "    keyring-18.0.0             |           py37_0          55 KB  anaconda\n",
      "    kiwisolver-1.2.0           |   py37hfd86e86_0          91 KB  anaconda\n",
      "    krb5-1.17.1                |       h173b8e3_0         1.5 MB  anaconda\n",
      "    lcms2-2.11                 |       h396b838_0         419 KB  anaconda\n",
      "    ld_impl_linux-64-2.33.1    |       h53a641e_7         645 KB  anaconda\n",
      "    libedit-3.1.20191231       |       h14c3975_1         121 KB  anaconda\n",
      "    libffi-3.3                 |       he6710b0_2          54 KB  anaconda\n",
      "    libgcc-ng-9.1.0            |       hdf63c60_0         8.1 MB  anaconda\n",
      "    libgfortran-ng-7.3.0       |       hdf63c60_0         1.3 MB  anaconda\n",
      "    libpng-1.6.37              |       hbc83047_0         364 KB  anaconda\n",
      "    libpq-12.2                 |       h20c2e04_0         2.8 MB  anaconda\n",
      "    libprotobuf-3.13.0.1       |       hd408876_0         2.3 MB  anaconda\n",
      "    libsodium-1.0.18           |       h7b6447c_0         387 KB  anaconda\n",
      "    libstdcxx-ng-9.1.0         |       hdf63c60_0         4.0 MB  anaconda\n",
      "    libtiff-4.1.0              |       h2733197_1         607 KB  anaconda\n",
      "    libuuid-1.0.3              |       h1bed415_2          16 KB  anaconda\n",
      "    libwebp-base-1.1.0         |       h7b6447c_3         869 KB  anaconda\n",
      "    libxcb-1.14                |       h7b6447c_0         610 KB  anaconda\n",
      "    libxgboost-0.90            |       he6710b0_1         3.8 MB  anaconda\n",
      "    libxml2-2.9.10             |       hb55368b_3         1.3 MB  anaconda\n",
      "    libxslt-1.1.34             |       hc22bd24_0         573 KB  anaconda\n",
      "    lxml-4.6.1                 |   py37hefd8a0e_0         1.3 MB  anaconda\n",
      "    lz4-c-1.9.2                |       heb0550a_3         203 KB  anaconda\n",
      "    lzo-2.10                   |       h7b6447c_2         317 KB  anaconda\n",
      "    markdown-3.3.2             |           py37_0         123 KB  anaconda\n",
      "    markupsafe-1.1.1           |   py37h14c3975_1          26 KB  anaconda\n",
      "    matplotlib-3.3.1           |                0          24 KB  anaconda\n",
      "    matplotlib-base-3.3.1      |   py37h817c723_0         6.7 MB  anaconda\n",
      "    mistune-0.8.4              |py37h14c3975_1001          53 KB  anaconda\n",
      "    mkl-2019.4                 |              243       204.1 MB  anaconda\n",
      "    mkl-service-2.3.0          |   py37he904b0f_0         208 KB  anaconda\n",
      "    mkl_fft-1.2.0              |   py37h23d657b_0         164 KB  anaconda\n",
      "    mkl_random-1.1.0           |   py37hd6b4f25_0         376 KB  anaconda\n",
      "    mock-4.0.2                 |             py_0          31 KB  anaconda\n",
      "    more-itertools-8.5.0       |             py_0          42 KB  anaconda\n",
      "    mpmath-1.1.0               |           py37_0         957 KB  anaconda\n",
      "    multidict-4.7.6            |   py37h7b6447c_1          69 KB  anaconda\n",
      "    nbclient-0.5.1             |             py_0          60 KB  anaconda\n",
      "    nbconvert-6.0.7            |           py37_0         530 KB  anaconda\n",
      "    nbformat-5.0.8             |             py_0         101 KB  anaconda\n",
      "    ncurses-6.2                |       he6710b0_1         1.1 MB  anaconda\n",
      "    nest-asyncio-1.4.1         |             py_0          10 KB  anaconda\n",
      "    networkx-2.5               |             py_0         1.2 MB  anaconda\n",
      "    ninja-1.10.1               |   py37hfd86e86_0         1.9 MB  anaconda\n",
      "    nltk-3.5                   |             py_0         1.1 MB  anaconda\n",
      "    notebook-6.1.4             |           py37_0         6.3 MB  anaconda\n",
      "    numexpr-2.7.1              |   py37h423224d_0         197 KB  anaconda\n",
      "    numpy-1.19.1               |   py37hbc911f0_0          20 KB  anaconda\n",
      "    numpy-base-1.19.1          |   py37hfa32c7d_0         5.2 MB  anaconda\n",
      "    oauthlib-3.1.0             |             py_0          88 KB  anaconda\n",
      "    olefile-0.46               |           py37_0          48 KB  anaconda\n",
      "    openssl-1.1.1h             |       h7b6447c_0         3.8 MB  anaconda\n",
      "    opt_einsum-3.1.0           |             py_0          54 KB  anaconda\n",
      "    packaging-20.4             |             py_0          35 KB  anaconda\n",
      "    pandas-1.1.3               |   py37he6710b0_0        10.5 MB  anaconda\n",
      "    pandoc-2.11                |       hb0f4dca_0        12.5 MB  anaconda\n",
      "    pandocfilters-1.4.2        |           py37_1          13 KB  anaconda\n",
      "    parso-0.7.0                |             py_0          71 KB  anaconda\n",
      "    patsy-0.5.1                |           py37_0         375 KB  anaconda\n",
      "    pcre-8.44                  |       he6710b0_0         269 KB  anaconda\n",
      "    pexpect-4.8.0              |           py37_1          79 KB  anaconda\n",
      "    pickleshare-0.7.5          |        py37_1001          13 KB  anaconda\n",
      "    pillow-8.0.0               |   py37h9a89aac_0         686 KB  anaconda\n",
      "    pip-20.2.4                 |           py37_0         2.0 MB  anaconda\n",
      "    plotly-4.11.0              |             py_0         5.9 MB  anaconda\n",
      "    pluggy-0.13.1              |           py37_0          32 KB  anaconda\n",
      "    prometheus_client-0.8.0    |             py_0          48 KB  anaconda\n",
      "    prompt-toolkit-3.0.8       |             py_0         244 KB  anaconda\n",
      "    protobuf-3.13.0.1          |   py37he6710b0_1         700 KB  anaconda\n",
      "    psycopg2-2.8.5             |   py37h1ba5d50_0         172 KB  anaconda\n",
      "    ptyprocess-0.6.0           |           py37_0          23 KB  anaconda\n",
      "    py-1.9.0                   |             py_0          78 KB  anaconda\n",
      "    py-xgboost-0.90            |   py37he6710b0_1          77 KB  anaconda\n",
      "    pyasn1-0.4.8               |             py_0          58 KB  anaconda\n",
      "    pyasn1-modules-0.2.8       |             py_0          67 KB  anaconda\n",
      "    pycparser-2.20             |             py_2          94 KB  anaconda\n",
      "    pygments-2.7.1             |             py_0         704 KB  anaconda\n",
      "    pyjwt-1.7.1                |           py37_0          32 KB  anaconda\n",
      "    pymssql-2.1.5              |   py37h7b6447c_0         228 KB  anaconda\n",
      "    pyodbc-4.0.30              |   py37he6710b0_0          72 KB  anaconda\n",
      "    pyopenssl-19.1.0           |             py_1          47 KB  anaconda\n",
      "    pyparsing-2.4.7            |             py_0          64 KB  anaconda\n",
      "    pyqt-5.9.2                 |   py37h22d08a2_1         5.6 MB  anaconda\n",
      "    pyrsistent-0.17.3          |   py37h7b6447c_0          89 KB  anaconda\n",
      "    pyshp-2.1.0                |             py_0          34 KB  anaconda\n",
      "    pysocks-1.7.1              |           py37_1          27 KB  anaconda\n",
      "    pytables-3.6.1             |   py37h71ec239_0         1.5 MB  anaconda\n",
      "    pytest-6.1.1               |           py37_0         418 KB  anaconda\n",
      "    python-3.7.9               |       h7579374_0        52.8 MB  anaconda\n",
      "    python-dateutil-2.8.1      |             py_0         224 KB  anaconda\n",
      "    pytorch-1.5.0              |cpu_py37hd91cbb3_0        33.3 MB  anaconda\n",
      "    pytz-2020.1                |             py_0         239 KB  anaconda\n",
      "    pywavelets-1.1.1           |   py37h7b6447c_2         4.4 MB  anaconda\n",
      "    pyyaml-5.3.1               |   py37h7b6447c_1         191 KB  anaconda\n",
      "    pyzmq-19.0.2               |   py37he6710b0_1         499 KB  anaconda\n",
      "    qt-5.9.7                   |       h5867ecd_1        85.9 MB  anaconda\n",
      "    readline-8.0               |       h7b6447c_0         428 KB  anaconda\n",
      "    regex-2020.10.15           |   py37h7b6447c_0         358 KB  anaconda\n",
      "    requests-2.24.0            |             py_0          54 KB  anaconda\n",
      "    requests-oauthlib-1.3.0    |             py_0          22 KB  anaconda\n",
      "    retrying-1.3.3             |           py37_2          15 KB  anaconda\n",
      "    rsa-4.6                    |             py_0          26 KB  anaconda\n",
      "    s3transfer-0.3.3           |           py37_1          90 KB  anaconda\n",
      "    scikit-image-0.17.2        |   py37hdf5156a_0        10.7 MB  anaconda\n",
      "    scikit-learn-0.23.2        |   py37h0573a6f_0         6.9 MB  anaconda\n",
      "    scipy-1.5.2                |   py37h0b6359f_0        18.5 MB  anaconda\n",
      "    seaborn-0.11.0             |             py_0         216 KB  anaconda\n",
      "    secretstorage-3.1.2        |           py37_1          23 KB  anaconda\n",
      "    send2trash-1.5.0           |           py37_0          16 KB  anaconda\n",
      "    setuptools-50.3.0          |   py37hb0f4dca_1         904 KB  anaconda\n",
      "    sip-4.19.24                |   py37he6710b0_0         297 KB  anaconda\n",
      "    six-1.15.0                 |             py_0          13 KB  anaconda\n",
      "    snappy-1.1.8               |       he6710b0_0          43 KB  anaconda\n",
      "    snowballstemmer-2.0.0      |             py_0          58 KB  anaconda\n",
      "    soupsieve-2.0.1            |             py_0          33 KB  anaconda\n",
      "    sqlalchemy-1.3.19          |   py37h7b6447c_0         1.8 MB  anaconda\n",
      "    sqlite-3.33.0              |       h62c20be_0         2.0 MB  anaconda\n",
      "    statsmodels-0.12.0         |   py37h7b6447c_0        10.9 MB  anaconda\n",
      "    sympy-1.6.2                |           py37_0        10.5 MB  anaconda\n",
      "    tabulate-0.8.7             |           py37_0          40 KB  anaconda\n",
      "    tensorboard-2.2.1          |     pyh532a8cf_0         2.5 MB  anaconda\n",
      "    tensorboard-plugin-wit-1.6.0|             py_0         663 KB  anaconda\n",
      "    tensorflow-base-2.3.0      |mkl_py37he9661a2_0       302.8 MB  anaconda\n",
      "    tensorflow-estimator-2.3.0 |     pyheb71bc4_0         294 KB  anaconda\n",
      "    termcolor-1.1.0            |           py37_1           7 KB  anaconda\n",
      "    terminado-0.9.1            |           py37_0          26 KB  anaconda\n",
      "    testpath-0.4.4             |             py_0          88 KB  anaconda\n",
      "    threadpoolctl-2.1.0        |     pyh5ca1d4c_0          16 KB  anaconda\n",
      "    tifffile-2020.10.1         |   py37hdd07704_2         260 KB  anaconda\n",
      "    tk-8.6.10                  |       hbc83047_0         3.2 MB  anaconda\n",
      "    toml-0.10.1                |             py_0          20 KB  anaconda\n",
      "    toolz-0.11.1               |             py_0          47 KB  anaconda\n",
      "    tornado-6.0.4              |   py37h7b6447c_1         649 KB  anaconda\n",
      "    tqdm-4.50.2                |             py_0          55 KB  anaconda\n",
      "    traitlets-5.0.5            |             py_0          81 KB  anaconda\n",
      "    typing_extensions-3.7.4.3  |             py_0          29 KB  anaconda\n",
      "    unixodbc-2.3.9             |       h7b6447c_0         299 KB  anaconda\n",
      "    urllib3-1.25.11            |             py_0          93 KB  anaconda\n",
      "    wcwidth-0.2.5              |             py_0          37 KB  anaconda\n",
      "    webencodings-0.5.1         |           py37_1          19 KB  anaconda\n",
      "    werkzeug-1.0.1             |             py_0         243 KB  anaconda\n",
      "    wheel-0.35.1               |             py_0          36 KB  anaconda\n",
      "    widgetsnbextension-3.5.1   |           py37_0         1.8 MB  anaconda\n",
      "    wrapt-1.12.1               |   py37h7b6447c_1          50 KB  anaconda\n",
      "    xlrd-1.2.0                 |           py37_0         186 KB  anaconda\n",
      "    xlsxwriter-1.3.7           |             py_0         104 KB  anaconda\n",
      "    xz-5.2.5                   |       h7b6447c_0         438 KB  anaconda\n",
      "    yaml-0.2.5                 |       h7b6447c_0          87 KB  anaconda\n",
      "    yarl-1.6.2                 |   py37h7b6447c_0         139 KB  anaconda\n",
      "    zeromq-4.3.3               |       he6710b0_3         678 KB  anaconda\n",
      "    zipp-3.3.1                 |             py_0          11 KB  anaconda\n",
      "    zlib-1.2.11                |       h7b6447c_3         120 KB  anaconda\n",
      "    zstd-1.4.4                 |       h0b5b093_3        1006 KB  anaconda\n",
      "    ------------------------------------------------------------\n",
      "                                           Total:       958.6 MB\n",
      "\n",
      "The following NEW packages will be INSTALLED:\n",
      "\n",
      "  argon2-cffi        anaconda/linux-64::argon2-cffi-20.1.0-py37h7b6447c_1\n",
      "  astunparse         anaconda/noarch::astunparse-1.6.3-py_0\n",
      "  async_generator    anaconda/linux-64::async_generator-1.10-py37h28b3542_0\n",
      "  ibm-wsrt-py37main~ opt/ibm/build/channels/wscloud/noarch::ibm-wsrt-py37main-keep-0.0.0-2385\n",
      "  iniconfig          anaconda/noarch::iniconfig-1.1.1-py_0\n",
      "  jupyterlab_pygmen~ anaconda/noarch::jupyterlab_pygments-0.1.2-py_0\n",
      "  nbclient           anaconda/noarch::nbclient-0.5.1-py_0\n",
      "  nest-asyncio       anaconda/noarch::nest-asyncio-1.4.1-py_0\n",
      "  tensorboard-plugi~ anaconda/noarch::tensorboard-plugin-wit-1.6.0-py_0\n",
      "  tifffile           anaconda/linux-64::tifffile-2020.10.1-py37hdd07704_2\n",
      "  toml               anaconda/noarch::toml-0.10.1-py_0\n",
      "\n",
      "The following packages will be UPDATED:\n",
      "\n",
      "  absl-py                   pkgs/main::absl-py-0.9.0-py37_0 --> anaconda::absl-py-0.10.0-py37_0\n",
      "  aiohttp            pkgs/main::aiohttp-3.6.2-py37h7b6447c~ --> anaconda::aiohttp-3.6.3-py37h7b6447c_0\n",
      "  astor                       pkgs/main::astor-0.8.0-py37_0 --> anaconda::astor-0.8.1-py37_0\n",
      "  astropy            pkgs/main::astropy-4.0.1.post1-py37h7~ --> anaconda::astropy-4.0.2-py37h7b6447c_0\n",
      "  attrs                        pkgs/main::attrs-19.3.0-py_0 --> anaconda::attrs-20.2.0-py_0\n",
      "  beautifulsoup4     pkgs/main/linux-64::beautifulsoup4-4.~ --> anaconda/noarch::beautifulsoup4-4.9.3-pyhb0f4dca_0\n",
      "  biopython          pkgs/main::biopython-1.77-py37h27cfd2~ --> anaconda::biopython-1.78-py37h7b6447c_0\n",
      "  bleach                       pkgs/main::bleach-3.1.5-py_0 --> anaconda::bleach-3.2.1-py_0\n",
      "  bokeh                       pkgs/main::bokeh-2.1.1-py37_0 --> anaconda::bokeh-2.2.3-py37_0\n",
      "  boto3                       pkgs/main::boto3-1.13.11-py_0 --> anaconda::boto3-1.16.0-py_0\n",
      "  botocore                 pkgs/main::botocore-1.16.11-py_0 --> anaconda::botocore-1.19.1-py_0\n",
      "  c-ares             pkgs/main::c-ares-1.15.0-h7b6447c_1001 --> anaconda::c-ares-1.16.1-h7b6447c_0\n",
      "  cffi                pkgs/main::cffi-1.14.0-py37he30daa8_1 --> anaconda::cffi-1.14.3-py37he30daa8_0\n",
      "  cloudpickle             pkgs/main::cloudpickle-1.5.0-py_0 --> anaconda::cloudpickle-1.6.0-py_0\n",
      "  cx_oracle          pkgs/main::cx_oracle-7.2.3-py37h7b644~ --> anaconda::cx_oracle-8.0.1-py37h7b6447c_0\n",
      "  cytoolz            pkgs/main::cytoolz-0.10.1-py37h7b6447~ --> anaconda::cytoolz-0.11.0-py37h7b6447c_0\n",
      "  dask-core                pkgs/main::dask-core-2.20.0-py_0 --> anaconda::dask-core-2.30.0-py_0\n",
      "  dbus                   pkgs/main::dbus-1.13.16-hb2f20db_0 --> anaconda::dbus-1.13.18-hb2f20db_0\n",
      "  dill                pkgs/main/linux-64::dill-0.3.0-py37_0 --> anaconda/noarch::dill-0.3.2-py_0\n",
      "  expat                   pkgs/main::expat-2.2.9-he6710b0_2 --> anaconda::expat-2.2.10-he6710b0_2\n",
      "  freetype            pkgs/main::freetype-2.10.2-h5ab3b9f_0 --> anaconda::freetype-2.10.4-h5ab3b9f_0\n",
      "  gast                pkgs/main/linux-64::gast-0.2.2-py37_0 --> anaconda/noarch::gast-0.3.3-py_0\n",
      "  google-auth            pkgs/main::google-auth-1.22.0-py_0 --> anaconda::google-auth-1.22.1-py_0\n",
      "  grpcio             pkgs/main::grpcio-1.27.2-py37hf8bcb03~ --> anaconda::grpcio-1.31.0-py37hf8bcb03_0\n",
      "  gstreamer          pkgs/main::gstreamer-1.14.0-hb31296c_0 --> anaconda::gstreamer-1.14.0-hb453b48_1\n",
      "  idna                             pkgs/main::idna-2.9-py_1 --> anaconda::idna-2.10-py_0\n",
      "  importlib-metadata pkgs/main/linux-64::importlib-metadat~ --> anaconda/noarch::importlib-metadata-2.0.0-py_1\n",
      "  importlib_metadata  pkgs/main::importlib_metadata-1.6.1-0 --> anaconda::importlib_metadata-2.0.0-1\n",
      "  intel-openmp           pkgs/main::intel-openmp-2020.1-217 --> anaconda::intel-openmp-2020.2-254\n",
      "  ipykernel          pkgs/main::ipykernel-5.3.0-py37h5ca1d~ --> anaconda::ipykernel-5.3.4-py37h5ca1d4c_0\n",
      "  ipython                  pkgs/main::ipython-7.15.0-py37_0 --> anaconda::ipython-7.18.1-py37h5ca1d4c_0\n",
      "  jedi                        pkgs/main::jedi-0.17.1-py37_0 --> anaconda::jedi-0.17.2-py37_0\n",
      "  jeepney            pkgs/main/linux-64::jeepney-0.4-py37_0 --> anaconda/noarch::jeepney-0.4.3-py_0\n",
      "  jmespath                   pkgs/main::jmespath-0.9.4-py_0 --> anaconda::jmespath-0.10.0-py_0\n",
      "  joblib                      pkgs/main::joblib-0.16.0-py_0 --> anaconda::joblib-0.17.0-py_0\n",
      "  jupyter_client       pkgs/main::jupyter_client-6.1.3-py_0 --> anaconda::jupyter_client-6.1.7-py_0\n",
      "  jupyterlab_server  pkgs/main::jupyterlab_server-1.1.0-py~ --> anaconda::jupyterlab_server-1.2.0-py_0\n",
      "  libprotobuf        pkgs/main::libprotobuf-3.12.3-hd40887~ --> anaconda::libprotobuf-3.13.0.1-hd408876_0\n",
      "  markdown                 pkgs/main::markdown-3.1.1-py37_0 --> anaconda::markdown-3.3.2-py37_0\n",
      "  matplotlib                  pkgs/main::matplotlib-3.2.2-0 --> anaconda::matplotlib-3.3.1-0\n",
      "  matplotlib-base    pkgs/main::matplotlib-base-3.2.2-py37~ --> anaconda::matplotlib-base-3.3.1-py37h817c723_0\n",
      "  mkl_fft            pkgs/main::mkl_fft-1.1.0-py37h23d657b~ --> anaconda::mkl_fft-1.2.0-py37h23d657b_0\n",
      "  more-itertools       pkgs/main::more-itertools-8.4.0-py_0 --> anaconda::more-itertools-8.5.0-py_0\n",
      "  nbconvert               pkgs/main::nbconvert-5.6.1-py37_1 --> anaconda::nbconvert-6.0.7-py37_0\n",
      "  nbformat                   pkgs/main::nbformat-5.0.7-py_0 --> anaconda::nbformat-5.0.8-py_0\n",
      "  networkx                     pkgs/main::networkx-2.4-py_1 --> anaconda::networkx-2.5-py_0\n",
      "  ninja               pkgs/main::ninja-1.9.0-py37hfd86e86_0 --> anaconda::ninja-1.10.1-py37hfd86e86_0\n",
      "  notebook                 pkgs/main::notebook-6.0.3-py37_0 --> anaconda::notebook-6.1.4-py37_0\n",
      "  numpy              pkgs/main::numpy-1.18.5-py37ha1c710e_0 --> anaconda::numpy-1.19.1-py37hbc911f0_0\n",
      "  numpy-base         pkgs/main::numpy-base-1.18.5-py37hde5~ --> anaconda::numpy-base-1.19.1-py37hfa32c7d_0\n",
      "  pandas             pkgs/main::pandas-1.0.5-py37h0573a6f_0 --> anaconda::pandas-1.1.3-py37he6710b0_0\n",
      "  pandoc                        pkgs/main::pandoc-2.9.2.1-0 --> anaconda::pandoc-2.11-hb0f4dca_0\n",
      "  pillow             pkgs/main::pillow-7.2.0-py37hb39fc2d_0 --> anaconda::pillow-8.0.0-py37h9a89aac_0\n",
      "  pip                          pkgs/main::pip-20.1.1-py37_1 --> anaconda::pip-20.2.4-py37_0\n",
      "  plotly                       pkgs/main::plotly-4.8.2-py_0 --> anaconda::plotly-4.11.0-py_0\n",
      "  prompt-toolkit     pkgs/main::prompt-toolkit-3.0.5-pyha8~ --> anaconda::prompt-toolkit-3.0.8-py_0\n",
      "  protobuf           pkgs/main::protobuf-3.12.3-py37he6710~ --> anaconda::protobuf-3.13.0.1-py37he6710b0_1\n",
      "  py                               pkgs/main::py-1.8.2-py_0 --> anaconda::py-1.9.0-py_0\n",
      "  pygments                   pkgs/main::pygments-2.6.1-py_0 --> anaconda::pygments-2.7.1-py_0\n",
      "  pyrsistent         pkgs/main::pyrsistent-0.16.0-py37h7b6~ --> anaconda::pyrsistent-0.17.3-py37h7b6447c_0\n",
      "  pytest             pkgs/main::pytest-5.4.3-py37h06a4308_0 --> anaconda::pytest-6.1.1-py37_0\n",
      "  pytorch            pkgs/main::pytorch-1.3.1-cpu_py37h62f~ --> anaconda::pytorch-1.5.0-cpu_py37hd91cbb3_0\n",
      "  pyzmq              pkgs/main::pyzmq-19.0.1-py37he6710b0_1 --> anaconda::pyzmq-19.0.2-py37he6710b0_1\n",
      "  regex              pkgs/main::regex-2020.6.8-py37h7b6447~ --> anaconda::regex-2020.10.15-py37h7b6447c_0\n",
      "  scikit-image       pkgs/main::scikit-image-0.16.2-py37h0~ --> anaconda::scikit-image-0.17.2-py37hdf5156a_0\n",
      "  scikit-learn       pkgs/main::scikit-learn-0.23.1-py37h4~ --> anaconda::scikit-learn-0.23.2-py37h0573a6f_0\n",
      "  scipy               pkgs/main::scipy-1.5.0-py37h0b6359f_0 --> anaconda::scipy-1.5.2-py37h0b6359f_0\n",
      "  seaborn                    pkgs/main::seaborn-0.10.1-py_0 --> anaconda::seaborn-0.11.0-py_0\n",
      "  secretstorage       pkgs/main::secretstorage-3.1.0-py37_0 --> anaconda::secretstorage-3.1.2-py37_1\n",
      "  setuptools            pkgs/main::setuptools-47.3.1-py37_0 --> anaconda::setuptools-50.3.0-py37hb0f4dca_1\n",
      "  sip                  pkgs/main::sip-4.19.8-py37hf484d3e_0 --> anaconda::sip-4.19.24-py37he6710b0_0\n",
      "  sqlalchemy         pkgs/main::sqlalchemy-1.3.17-py37h7b6~ --> anaconda::sqlalchemy-1.3.19-py37h7b6447c_0\n",
      "  statsmodels        pkgs/main::statsmodels-0.11.1-py37h7b~ --> anaconda::statsmodels-0.12.0-py37h7b6447c_0\n",
      "  tabulate                 pkgs/main::tabulate-0.8.3-py37_0 --> anaconda::tabulate-0.8.7-py37_0\n",
      "  tensorboard            pkgs/main::tensorboard-2.1.0-py3_0 --> anaconda::tensorboard-2.2.1-pyh532a8cf_0\n",
      "  tensorflow-base    pkgs/main::tensorflow-base-2.1.0-mkl_~ --> anaconda::tensorflow-base-2.3.0-mkl_py37he9661a2_0\n",
      "  tensorflow-estima~ pkgs/main::tensorflow-estimator-2.1.0~ --> anaconda::tensorflow-estimator-2.3.0-pyheb71bc4_0\n",
      "  terminado               pkgs/main::terminado-0.8.3-py37_0 --> anaconda::terminado-0.9.1-py37_0\n",
      "  toolz                        pkgs/main::toolz-0.10.0-py_0 --> anaconda::toolz-0.11.1-py_0\n",
      "  tqdm                          pkgs/main::tqdm-4.47.0-py_0 --> anaconda::tqdm-4.50.2-py_0\n",
      "  traitlets          pkgs/main/linux-64::traitlets-4.3.3-p~ --> anaconda/noarch::traitlets-5.0.5-py_0\n",
      "  typing_extensions  pkgs/main::typing_extensions-3.7.4.2-~ --> anaconda::typing_extensions-3.7.4.3-py_0\n",
      "  unixodbc             pkgs/main::unixodbc-2.3.7-h14c3975_0 --> anaconda::unixodbc-2.3.9-h7b6447c_0\n",
      "  urllib3                    pkgs/main::urllib3-1.25.9-py_0 --> anaconda::urllib3-1.25.11-py_0\n",
      "  wcwidth                     pkgs/main::wcwidth-0.2.4-py_0 --> anaconda::wcwidth-0.2.5-py_0\n",
      "  wheel              pkgs/main/linux-64::wheel-0.34.2-py37~ --> anaconda/noarch::wheel-0.35.1-py_0\n",
      "  xlsxwriter               pkgs/main::xlsxwriter-1.2.9-py_0 --> anaconda::xlsxwriter-1.3.7-py_0\n",
      "  yarl                 pkgs/main::yarl-1.5.1-py37h7b6447c_0 --> anaconda::yarl-1.6.2-py37h7b6447c_0\n",
      "  zeromq                 pkgs/main::zeromq-4.3.2-he6710b0_3 --> anaconda::zeromq-4.3.3-he6710b0_3\n",
      "  zipp                           pkgs/main::zipp-3.1.0-py_0 --> anaconda::zipp-3.3.1-py_0\n",
      "\n",
      "The following packages will be SUPERSEDED by a higher-priority channel:\n",
      "\n",
      "  _libgcc_mutex                                   pkgs/main --> anaconda\n",
      "  _py-xgboost-mutex                               pkgs/main --> anaconda\n",
      "  _pytorch_select                                 pkgs/main --> anaconda\n",
      "  async-timeout      pkgs/main::async-timeout-3.0.1-py37h0~ --> anaconda::async-timeout-3.0.1-py37_0\n",
      "  backcall           pkgs/main::backcall-0.2.0-pyhd3eb1b0_0 --> anaconda::backcall-0.2.0-py_0\n",
      "  blas                                            pkgs/main --> anaconda\n",
      "  blinker             pkgs/main::blinker-1.4-py37h06a4308_0 --> anaconda::blinker-1.4-py37_0\n",
      "  blosc                                           pkgs/main --> anaconda\n",
      "  brotlipy           pkgs/main::brotlipy-0.7.0-py37h27cfd2~ --> anaconda::brotlipy-0.7.0-py37h7b6447c_1000\n",
      "  bzip2                                           pkgs/main --> anaconda\n",
      "  ca-certificates    pkgs/main::ca-certificates-2021.4.13-~ --> anaconda::ca-certificates-2020.10.14-0\n",
      "  cachetools                                      pkgs/main --> anaconda\n",
      "  certifi            pkgs/main::certifi-2020.12.5-py37h06a~ --> anaconda::certifi-2020.6.20-py37_0\n",
      "  chardet            pkgs/main::chardet-3.0.4-py37h06a4308~ --> anaconda::chardet-3.0.4-py37_1003\n",
      "  click                 pkgs/main::click-7.1.2-pyhd3eb1b0_0 --> anaconda::click-7.1.2-py_0\n",
      "  cryptography       pkgs/main::cryptography-3.4.7-py37hd2~ --> anaconda::cryptography-3.1.1-py37h1ba5d50_0\n",
      "  cycler                                          pkgs/main --> anaconda\n",
      "  decorator          pkgs/main::decorator-4.4.2-pyhd3eb1b0~ --> anaconda::decorator-4.4.2-py_0\n",
      "  defusedxml         pkgs/main::defusedxml-0.6.0-pyhd3eb1b~ --> anaconda::defusedxml-0.6.0-py_0\n",
      "  docutils           pkgs/main::docutils-0.15.2-py37h06a43~ --> anaconda::docutils-0.15.2-py37_0\n",
      "  entrypoints                                     pkgs/main --> anaconda\n",
      "  fastcache                                       pkgs/main --> anaconda\n",
      "  fontconfig                                      pkgs/main --> anaconda\n",
      "  freetds                                         pkgs/main --> anaconda\n",
      "  future                                          pkgs/main --> anaconda\n",
      "  glib                    pkgs/main::glib-2.65.0-h3eb4bd4_0 --> anaconda::glib-2.56.2-hd408876_0\n",
      "  gmp                       pkgs/main::gmp-6.1.2-h6c8ec71_1 --> anaconda::gmp-6.1.2-hb3b607b_0\n",
      "  google-auth-oauth~                              pkgs/main --> anaconda\n",
      "  google-pasta                                    pkgs/main --> anaconda\n",
      "  gst-plugins-base                                pkgs/main --> anaconda\n",
      "  h5py                                            pkgs/main --> anaconda\n",
      "  hdf5                                            pkgs/main --> anaconda\n",
      "  html5lib                                        pkgs/main --> anaconda\n",
      "  icu                                             pkgs/main --> anaconda\n",
      "  imageio             pkgs/main::imageio-2.9.0-pyhd3eb1b0_0 --> anaconda::imageio-2.9.0-py_0\n",
      "  ipython_genutils   pkgs/main/noarch::ipython_genutils-0.~ --> anaconda/linux-64::ipython_genutils-0.2.0-py37_0\n",
      "  ipywidgets                                      pkgs/main --> anaconda\n",
      "  jinja2              pkgs/main::jinja2-2.11.3-pyhd3eb1b0_0 --> anaconda::jinja2-2.11.2-py_0\n",
      "  jpeg                        pkgs/main::jpeg-9b-h024ee3a_2 --> anaconda::jpeg-9b-habf39ab_1\n",
      "  json5                                           pkgs/main --> anaconda\n",
      "  jsonschema                                      pkgs/main --> anaconda\n",
      "  jupyter_core                                    pkgs/main --> anaconda\n",
      "  jupyterlab         pkgs/main::jupyterlab-2.2.6-pyhd3eb1b~ --> anaconda::jupyterlab-2.2.6-py_0\n",
      "  keras-applications                              pkgs/main --> anaconda\n",
      "  keras-preprocessi~                              pkgs/main --> anaconda\n",
      "  keyring                                         pkgs/main --> anaconda\n",
      "  kiwisolver                                      pkgs/main --> anaconda\n",
      "  krb5                                            pkgs/main --> anaconda\n",
      "  lcms2                                           pkgs/main --> anaconda\n",
      "  ld_impl_linux-64                                pkgs/main --> anaconda\n",
      "  libedit                                         pkgs/main --> anaconda\n",
      "  libffi                                          pkgs/main --> anaconda\n",
      "  libgcc-ng                                       pkgs/main --> anaconda\n",
      "  libgfortran-ng                                  pkgs/main --> anaconda\n",
      "  libpng                                          pkgs/main --> anaconda\n",
      "  libpq                                           pkgs/main --> anaconda\n",
      "  libsodium                                       pkgs/main --> anaconda\n",
      "  libstdcxx-ng                                    pkgs/main --> anaconda\n",
      "  libtiff               pkgs/main::libtiff-4.2.0-h85742a9_0 --> anaconda::libtiff-4.1.0-h2733197_1\n",
      "  libuuid                                         pkgs/main --> anaconda\n",
      "  libwebp-base       pkgs/main::libwebp-base-1.2.0-h27cfd2~ --> anaconda::libwebp-base-1.1.0-h7b6447c_3\n",
      "  libxcb                                          pkgs/main --> anaconda\n",
      "  libxgboost                                      pkgs/main --> anaconda\n",
      "  libxml2                                         pkgs/main --> anaconda\n",
      "  libxslt                                         pkgs/main --> anaconda\n",
      "  lxml                 pkgs/main::lxml-4.6.3-py37h9120a33_0 --> anaconda::lxml-4.6.1-py37hefd8a0e_0\n",
      "  lz4-c                                           pkgs/main --> anaconda\n",
      "  lzo                                             pkgs/main --> anaconda\n",
      "  markupsafe                                      pkgs/main --> anaconda\n",
      "  mistune                                         pkgs/main --> anaconda\n",
      "  mkl                             pkgs/main::mkl-2020.1-217 --> anaconda::mkl-2019.4-243\n",
      "  mkl-service        pkgs/main::mkl-service-2.3.0-py37he8a~ --> anaconda::mkl-service-2.3.0-py37he904b0f_0\n",
      "  mkl_random         pkgs/main::mkl_random-1.1.1-py37h0573~ --> anaconda::mkl_random-1.1.0-py37hd6b4f25_0\n",
      "  mock                                            pkgs/main --> anaconda\n",
      "  mpmath                                          pkgs/main --> anaconda\n",
      "  multidict                                       pkgs/main --> anaconda\n",
      "  ncurses                                         pkgs/main --> anaconda\n",
      "  nltk                                            pkgs/main --> anaconda\n",
      "  numexpr            pkgs/main::numexpr-2.7.1-py37h63df603~ --> anaconda::numexpr-2.7.1-py37h423224d_0\n",
      "  oauthlib                                        pkgs/main --> anaconda\n",
      "  olefile                                         pkgs/main --> anaconda\n",
      "  openssl              pkgs/main::openssl-1.1.1k-h27cfd23_0 --> anaconda::openssl-1.1.1h-h7b6447c_0\n",
      "  opt_einsum                                      pkgs/main --> anaconda\n",
      "  packaging                                       pkgs/main --> anaconda\n",
      "  pandocfilters                                   pkgs/main --> anaconda\n",
      "  parso                                           pkgs/main --> anaconda\n",
      "  patsy                                           pkgs/main --> anaconda\n",
      "  pcre                                            pkgs/main --> anaconda\n",
      "  pexpect            pkgs/main/noarch::pexpect-4.8.0-pyhd3~ --> anaconda/linux-64::pexpect-4.8.0-py37_1\n",
      "  pickleshare        pkgs/main/noarch::pickleshare-0.7.5-p~ --> anaconda/linux-64::pickleshare-0.7.5-py37_1001\n",
      "  pluggy             pkgs/main::pluggy-0.13.1-py37h06a4308~ --> anaconda::pluggy-0.13.1-py37_0\n",
      "  prometheus_client                               pkgs/main --> anaconda\n",
      "  psycopg2           pkgs/main::psycopg2-2.8.5-py37h3c74f8~ --> anaconda::psycopg2-2.8.5-py37h1ba5d50_0\n",
      "  ptyprocess         pkgs/main/noarch::ptyprocess-0.6.0-py~ --> anaconda/linux-64::ptyprocess-0.6.0-py37_0\n",
      "  py-xgboost                                      pkgs/main --> anaconda\n",
      "  pyasn1                                          pkgs/main --> anaconda\n",
      "  pyasn1-modules                                  pkgs/main --> anaconda\n",
      "  pycparser                                       pkgs/main --> anaconda\n",
      "  pyjwt                                           pkgs/main --> anaconda\n",
      "  pymssql                                         pkgs/main --> anaconda\n",
      "  pyodbc                                          pkgs/main --> anaconda\n",
      "  pyopenssl          pkgs/main::pyopenssl-19.1.0-pyhd3eb1b~ --> anaconda::pyopenssl-19.1.0-py_1\n",
      "  pyparsing          pkgs/main::pyparsing-2.4.7-pyhd3eb1b0~ --> anaconda::pyparsing-2.4.7-py_0\n",
      "  pyqt                 pkgs/main::pyqt-5.9.2-py37h05f1152_2 --> anaconda::pyqt-5.9.2-py37h22d08a2_1\n",
      "  pyshp                                           pkgs/main --> anaconda\n",
      "  pysocks                                         pkgs/main --> anaconda\n",
      "  pytables                                        pkgs/main --> anaconda\n",
      "  python                pkgs/main::python-3.7.10-hdb3f193_0 --> anaconda::python-3.7.9-h7579374_0\n",
      "  python-dateutil    pkgs/main::python-dateutil-2.8.1-pyhd~ --> anaconda::python-dateutil-2.8.1-py_0\n",
      "  pytz                                            pkgs/main --> anaconda\n",
      "  pywavelets                                      pkgs/main --> anaconda\n",
      "  pyyaml             pkgs/main::pyyaml-5.4.1-py37h27cfd23_1 --> anaconda::pyyaml-5.3.1-py37h7b6447c_1\n",
      "  qt                                              pkgs/main --> anaconda\n",
      "  readline                                        pkgs/main --> anaconda\n",
      "  requests                                        pkgs/main --> anaconda\n",
      "  requests-oauthlib                               pkgs/main --> anaconda\n",
      "  retrying                                        pkgs/main --> anaconda\n",
      "  rsa                                             pkgs/main --> anaconda\n",
      "  s3transfer         pkgs/main/noarch::s3transfer-0.3.3-py~ --> anaconda/linux-64::s3transfer-0.3.3-py37_1\n",
      "  send2trash         pkgs/main/noarch::send2trash-1.5.0-py~ --> anaconda/linux-64::send2trash-1.5.0-py37_0\n",
      "  six                pkgs/main/linux-64::six-1.15.0-py37h0~ --> anaconda/noarch::six-1.15.0-py_0\n",
      "  snappy                                          pkgs/main --> anaconda\n",
      "  snowballstemmer    pkgs/main::snowballstemmer-2.0.0-pyhd~ --> anaconda::snowballstemmer-2.0.0-py_0\n",
      "  soupsieve                                       pkgs/main --> anaconda\n",
      "  sqlite                                          pkgs/main --> anaconda\n",
      "  sympy                                           pkgs/main --> anaconda\n",
      "  termcolor          pkgs/main::termcolor-1.1.0-py37h06a43~ --> anaconda::termcolor-1.1.0-py37_1\n",
      "  testpath           pkgs/main::testpath-0.4.4-pyhd3eb1b0_0 --> anaconda::testpath-0.4.4-py_0\n",
      "  threadpoolctl                                   pkgs/main --> anaconda\n",
      "  tk                                              pkgs/main --> anaconda\n",
      "  tornado                                         pkgs/main --> anaconda\n",
      "  webencodings                                    pkgs/main --> anaconda\n",
      "  werkzeug           pkgs/main::werkzeug-1.0.1-pyhd3eb1b0_0 --> anaconda::werkzeug-1.0.1-py_0\n",
      "  widgetsnbextension                              pkgs/main --> anaconda\n",
      "  wrapt                                           pkgs/main --> anaconda\n",
      "  xlrd                                            pkgs/main --> anaconda\n",
      "  xz                                              pkgs/main --> anaconda\n",
      "  yaml                                            pkgs/main --> anaconda\n",
      "  zlib                                            pkgs/main --> anaconda\n",
      "  zstd                     pkgs/main::zstd-1.4.5-h9ceee32_0 --> anaconda::zstd-1.4.4-h0b5b093_3\n",
      "\n",
      "The following packages will be DOWNGRADED:\n",
      "\n",
      "  ibm-wsrt-py37main~                             0.0.0-2385 --> custom-2385\n",
      "\n",
      "\n",
      "\n",
      "Downloading and Extracting Packages\n",
      "lzo-2.10             | 317 KB    | ##################################### | 100% \n",
      "kiwisolver-1.2.0     | 91 KB     | ##################################### | 100% \n",
      "ipython-7.18.1       | 1.1 MB    | ##################################### | 100% \n",
      "bzip2-1.0.8          | 105 KB    | ##################################### | 100% \n",
      "tk-8.6.10            | 3.2 MB    | ##################################### | 100% \n",
      "zstd-1.4.4           | 1006 KB   | ##################################### | 100% \n",
      "libxslt-1.1.34       | 573 KB    | ##################################### | 100% \n",
      "keras-applications-1 | 30 KB     | ##################################### | 100% \n",
      "markdown-3.3.2       | 123 KB    | ##################################### | 100% \n",
      "pyshp-2.1.0          | 34 KB     | ##################################### | 100% \n",
      "scikit-image-0.17.2  | 10.7 MB   | ##################################### | 100% \n",
      "pcre-8.44            | 269 KB    | ##################################### | 100% \n",
      "_py-xgboost-mutex-2. | 9 KB      | ##################################### | 100% \n",
      "libpq-12.2           | 2.8 MB    | ##################################### | 100% \n",
      "chardet-3.0.4        | 173 KB    | ##################################### | 100% \n",
      "lcms2-2.11           | 419 KB    | ##################################### | 100% \n",
      "libgfortran-ng-7.3.0 | 1.3 MB    | ##################################### | 100% \n",
      "pygments-2.7.1       | 704 KB    | ##################################### | 100% \n",
      "prometheus_client-0. | 48 KB     | ##################################### | 100% \n",
      "ibm-wsrt-py37main-ke | 2 KB      | ##################################### | 100% \n",
      "libxcb-1.14          | 610 KB    | ##################################### | 100% \n",
      "terminado-0.9.1      | 26 KB     | ##################################### | 100% \n",
      "pyparsing-2.4.7      | 64 KB     | ##################################### | 100% \n",
      "google-auth-1.22.1   | 62 KB     | ##################################### | 100% \n",
      "secretstorage-3.1.2  | 23 KB     | ##################################### | 100% \n",
      "toolz-0.11.1         | 47 KB     | ##################################### | 100% \n",
      "tornado-6.0.4        | 649 KB    | ##################################### | 100% \n",
      "keras-preprocessing- | 36 KB     | ##################################### | 100% \n",
      "fastcache-1.1.0      | 31 KB     | ##################################### | 100% \n",
      "unixodbc-2.3.9       | 299 KB    | ##################################### | 100% \n",
      "fontconfig-2.13.0    | 291 KB    | ##################################### | 100% \n",
      "defusedxml-0.6.0     | 23 KB     | ##################################### | 100% \n",
      "jinja2-2.11.2        | 97 KB     | ##################################### | 100% \n",
      "more-itertools-8.5.0 | 42 KB     | ##################################### | 100% \n",
      "pickleshare-0.7.5    | 13 KB     | ##################################### | 100% \n",
      "pycparser-2.20       | 94 KB     | ##################################### | 100% \n",
      "prompt-toolkit-3.0.8 | 244 KB    | ##################################### | 100% \n",
      "snowballstemmer-2.0. | 58 KB     | ##################################### | 100% \n",
      "pytz-2020.1          | 239 KB    | ##################################### | 100% \n",
      "hdf5-1.10.4          | 5.3 MB    | ##################################### | 100% \n",
      "cffi-1.14.3          | 224 KB    | ##################################### | 100% \n",
      "h5py-2.10.0          | 1.2 MB    | ##################################### | 100% \n",
      "numexpr-2.7.1        | 197 KB    | ##################################### | 100% \n",
      "libpng-1.6.37        | 364 KB    | ##################################### | 100% \n",
      "ipywidgets-7.5.1     | 102 KB    | ##################################### | 100% \n",
      "threadpoolctl-2.1.0  | 16 KB     | ##################################### | 100% \n",
      "toml-0.10.1          | 20 KB     | ##################################### | 100% \n",
      "libedit-3.1.20191231 | 121 KB    | ##################################### | 100% \n",
      "entrypoints-0.3      | 12 KB     | ##################################### | 100% \n",
      "pyodbc-4.0.30        | 72 KB     | ##################################### | 100% \n",
      "future-0.18.2        | 720 KB    | ##################################### | 100% \n",
      "webencodings-0.5.1   | 19 KB     | ##################################### | 100% \n",
      "requests-oauthlib-1. | 22 KB     | ##################################### | 100% \n",
      "grpcio-1.31.0        | 2.2 MB    | ##################################### | 100% \n",
      "wcwidth-0.2.5        | 37 KB     | ##################################### | 100% \n",
      "rsa-4.6              | 26 KB     | ##################################### | 100% \n",
      "setuptools-50.3.0    | 904 KB    | ##################################### | 100% \n",
      "widgetsnbextension-3 | 1.8 MB    | ##################################### | 100% \n",
      "jeepney-0.4.3        | 22 KB     | ##################################### | 100% \n",
      "libgcc-ng-9.1.0      | 8.1 MB    | ##################################### | 100% \n",
      "olefile-0.46         | 48 KB     | ##################################### | 100% \n",
      "libstdcxx-ng-9.1.0   | 4.0 MB    | ##################################### | 100% \n",
      "regex-2020.10.15     | 358 KB    | ##################################### | 100% \n",
      "wrapt-1.12.1         | 50 KB     | ##################################### | 100% \n",
      "jupyterlab_pygments- | 8 KB      | ##################################### | 100% \n",
      "ld_impl_linux-64-2.3 | 645 KB    | ##################################### | 100% \n",
      "notebook-6.1.4       | 6.3 MB    | ##################################### | 100% \n",
      "sqlite-3.33.0        | 2.0 MB    | ##################################### | 100% \n",
      "idna-2.10            | 56 KB     | ##################################### | 100% \n",
      "iniconfig-1.1.1      | 8 KB      | ##################################### | 100% \n",
      "pymssql-2.1.5        | 228 KB    | ##################################### | 100% \n",
      "pillow-8.0.0         | 686 KB    | ##################################### | 100% \n",
      "decorator-4.4.2      | 14 KB     | ##################################### | 100% \n",
      "pyasn1-0.4.8         | 58 KB     | ##################################### | 100% \n",
      "argon2-cffi-20.1.0   | 49 KB     | ##################################### | 100% \n",
      "pyyaml-5.3.1         | 191 KB    | ##################################### | 100% \n",
      "brotlipy-0.7.0       | 348 KB    | ##################################### | 100% \n",
      "joblib-0.17.0        | 205 KB    | ##################################### | 100% \n",
      "nbconvert-6.0.7      | 530 KB    | ##################################### | 100% \n",
      "mistune-0.8.4        | 53 KB     | ##################################### | 100% \n",
      "mkl_random-1.1.0     | 376 KB    | ##################################### | 100% \n",
      "c-ares-1.16.1        | 112 KB    | ##################################### | 100% \n",
      "glib-2.56.2          | 5.0 MB    | ##################################### | 100% \n",
      "yaml-0.2.5           | 87 KB     | ##################################### | 100% \n",
      "opt_einsum-3.1.0     | 54 KB     | ##################################### | 100% \n",
      "jupyter_core-4.6.3   | 75 KB     | ##################################### | 100% \n",
      "jupyter_client-6.1.7 | 76 KB     | ##################################### | 100% \n",
      "snappy-1.1.8         | 43 KB     | ##################################### | 100% \n",
      "pandas-1.1.3         | 10.5 MB   | ##################################### | 100% \n",
      "biopython-1.78       | 2.6 MB    | ##################################### | 100% \n",
      "blosc-1.19.0         | 81 KB     | ##################################### | 100% \n",
      "astropy-4.0.2        | 7.6 MB    | ##################################### | 100% \n",
      "cryptography-3.1.1   | 625 KB    | ##################################### | 100% \n",
      "cytoolz-0.11.0       | 367 KB    | ##################################### | 100% \n",
      "scikit-learn-0.23.2  | 6.9 MB    | ##################################### | 100% \n",
      "pywavelets-1.1.1     | 4.4 MB    | ##################################### | 100% \n",
      "tabulate-0.8.7       | 40 KB     | ##################################### | 100% \n",
      "pysocks-1.7.1        | 27 KB     | ##################################### | 100% \n",
      "zlib-1.2.11          | 120 KB    | ##################################### | 100% \n",
      "pyopenssl-19.1.0     | 47 KB     | ##################################### | 100% \n",
      "matplotlib-base-3.3. | 6.7 MB    | ##################################### | 100% \n",
      "markupsafe-1.1.1     | 26 KB     | ##################################### | 100% \n",
      "astor-0.8.1          | 45 KB     | ##################################### | 100% \n",
      "libwebp-base-1.1.0   | 869 KB    | ##################################### | 100% \n",
      "tqdm-4.50.2          | 55 KB     | ##################################### | 100% \n",
      "readline-8.0         | 428 KB    | ##################################### | 100% \n",
      "mkl-2019.4           | 204.1 MB  | ##################################### | 100% \n",
      "matplotlib-3.3.1     | 24 KB     | ##################################### | 100% \n",
      "zeromq-4.3.3         | 678 KB    | ##################################### | 100% \n",
      "plotly-4.11.0        | 5.9 MB    | ##################################### | 100% \n",
      "boto3-1.16.0         | 70 KB     | ##################################### | 100% \n",
      "expat-2.2.10         | 192 KB    | ##################################### | 100% \n",
      "bokeh-2.2.3          | 7.0 MB    | ##################################### | 100% \n",
      "backcall-0.2.0       | 14 KB     | ##################################### | 100% \n",
      "urllib3-1.25.11      | 93 KB     | ##################################### | 100% \n",
      "libsodium-1.0.18     | 387 KB    | ##################################### | 100% \n",
      "numpy-1.19.1         | 20 KB     | ##################################### | 100% \n",
      "py-xgboost-0.90      | 77 KB     | ##################################### | 100% \n",
      "astunparse-1.6.3     | 17 KB     | ##################################### | 100% \n",
      "html5lib-1.1         | 92 KB     | ##################################### | 100% \n",
      "botocore-1.19.1      | 4.2 MB    | ##################################### | 100% \n",
      "tifffile-2020.10.1   | 260 KB    | ##################################### | 100% \n",
      "pip-20.2.4           | 2.0 MB    | ##################################### | 100% \n",
      "sqlalchemy-1.3.19    | 1.8 MB    | ##################################### | 100% \n",
      "retrying-1.3.3       | 15 KB     | ##################################### | 100% \n",
      "pytest-6.1.1         | 418 KB    | ##################################### | 100% \n",
      "lxml-4.6.1           | 1.3 MB    | ##################################### | 100% \n",
      "krb5-1.17.1          | 1.5 MB    | ##################################### | 100% \n",
      "dill-0.3.2           | 65 KB     | ##################################### | 100% \n",
      "mock-4.0.2           | 31 KB     | ##################################### | 100% \n",
      "jpeg-9b              | 247 KB    | ##################################### | 100% \n",
      "docutils-0.15.2      | 736 KB    | ##################################### | 100% \n",
      "_libgcc_mutex-0.1    | 3 KB      | ##################################### | 100% \n",
      "wheel-0.35.1         | 36 KB     | ##################################### | 100% \n",
      "pyjwt-1.7.1          | 32 KB     | ##################################### | 100% \n",
      "cx_oracle-8.0.1      | 186 KB    | ##################################### | 100% \n",
      "jupyterlab_server-1. | 24 KB     | ##################################### | 100% \n",
      "gst-plugins-base-1.1 | 6.3 MB    | ##################################### | 100% \n",
      "attrs-20.2.0         | 41 KB     | ##################################### | 100% \n",
      "pexpect-4.8.0        | 79 KB     | ##################################### | 100% \n",
      "packaging-20.4       | 35 KB     | ##################################### | 100% \n",
      "tensorflow-estimator | 294 KB    | ##################################### | 100% \n",
      "xlsxwriter-1.3.7     | 104 KB    | ##################################### | 100% \n",
      "absl-py-0.10.0       | 169 KB    | ##################################### | 100% \n",
      "psycopg2-2.8.5       | 172 KB    | ##################################### | 100% \n",
      "ca-certificates-2020 | 128 KB    | ##################################### | 100% \n",
      "json5-0.9.5          | 22 KB     | ##################################### | 100% \n",
      "mkl-service-2.3.0    | 208 KB    | ##################################### | 100% \n",
      "cachetools-4.1.1     | 12 KB     | ##################################### | 100% \n",
      "nest-asyncio-1.4.1   | 10 KB     | ##################################### | 100% \n",
      "protobuf-3.13.0.1    | 700 KB    | ##################################### | 100% \n",
      "imageio-2.9.0        | 3.1 MB    | ##################################### | 100% \n",
      "dask-core-2.30.0     | 639 KB    | ##################################### | 100% \n",
      "libxgboost-0.90      | 3.8 MB    | ##################################### | 100% \n",
      "send2trash-1.5.0     | 16 KB     | ##################################### | 100% \n",
      "jedi-0.17.2          | 950 KB    | ##################################### | 100% \n",
      "pytorch-1.5.0        | 33.3 MB   | ##################################### | 100% \n",
      "libxml2-2.9.10       | 1.3 MB    | ##################################### | 100% \n",
      "certifi-2020.6.20    | 159 KB    | ##################################### | 100% \n",
      "aiohttp-3.6.3        | 626 KB    | ##################################### | 100% \n",
      "importlib_metadata-2 | 11 KB     | ##################################### | 100% \n",
      "tensorboard-2.2.1    | 2.5 MB    | ##################################### | 100% \n",
      "click-7.1.2          | 67 KB     | ##################################### | 100% \n",
      "python-3.7.9         | 52.8 MB   | ##################################### | 100% \n",
      "pandocfilters-1.4.2  | 13 KB     | ##################################### | 100% \n",
      "multidict-4.7.6      | 69 KB     | ##################################### | 100% \n",
      "seaborn-0.11.0       | 216 KB    | ##################################### | 100% \n",
      "gast-0.3.3           | 14 KB     | ##################################### | 100% \n",
      "xz-5.2.5             | 438 KB    | ##################################### | 100% \n",
      "icu-58.2             | 22.7 MB   | ##################################### | 100% \n",
      "google-auth-oauthlib | 21 KB     | ##################################### | 100% \n",
      "blas-1.0             | 6 KB      | ##################################### | 100% \n",
      "blinker-1.4          | 21 KB     | ##################################### | 100% \n",
      "scipy-1.5.2          | 18.5 MB   | ##################################### | 100% \n",
      "freetype-2.10.4      | 901 KB    | ##################################### | 100% \n",
      "parso-0.7.0          | 71 KB     | ##################################### | 100% \n",
      "statsmodels-0.12.0   | 10.9 MB   | ##################################### | 100% \n",
      "pluggy-0.13.1        | 32 KB     | ##################################### | 100% \n",
      "freetds-1.00.97      | 2.4 MB    | ##################################### | 100% \n",
      "gstreamer-1.14.0     | 3.8 MB    | ##################################### | 100% \n",
      "beautifulsoup4-4.9.3 | 87 KB     | ##################################### | 100% \n",
      "yarl-1.6.2           | 139 KB    | ##################################### | 100% \n",
      "python-dateutil-2.8. | 224 KB    | ##################################### | 100% \n",
      "nbformat-5.0.8       | 101 KB    | ##################################### | 100% \n",
      "libffi-3.3           | 54 KB     | ##################################### | 100% \n",
      "openssl-1.1.1h       | 3.8 MB    | ##################################### | 100% \n",
      "numpy-base-1.19.1    | 5.2 MB    | ##################################### | 100% \n",
      "oauthlib-3.1.0       | 88 KB     | ##################################### | 100% \n",
      "pandoc-2.11          | 12.5 MB   | ##################################### | 100% \n",
      "mpmath-1.1.0         | 957 KB    | ##################################### | 100% \n",
      "sympy-1.6.2          | 10.5 MB   | ##################################### | 100% \n",
      "ncurses-6.2          | 1.1 MB    | ##################################### | 100% \n",
      "libtiff-4.1.0        | 607 KB    | ##################################### | 100% \n",
      "six-1.15.0           | 13 KB     | ##################################### | 100% \n",
      "mkl_fft-1.2.0        | 164 KB    | ##################################### | 100% \n",
      "pytables-3.6.1       | 1.5 MB    | ##################################### | 100% \n",
      "jsonschema-3.2.0     | 45 KB     | ##################################### | 100% \n",
      "async_generator-1.10 | 38 KB     | ##################################### | 100% \n",
      "werkzeug-1.0.1       | 243 KB    | ##################################### | 100% \n",
      "tensorboard-plugin-w | 663 KB    | ##################################### | 100% \n",
      "ninja-1.10.1         | 1.9 MB    | ##################################### | 100% \n",
      "sip-4.19.24          | 297 KB    | ##################################### | 100% \n",
      "py-1.9.0             | 78 KB     | ##################################### | 100% \n",
      "keyring-18.0.0       | 55 KB     | ##################################### | 100% \n",
      "requests-2.24.0      | 54 KB     | ##################################### | 100% \n",
      "s3transfer-0.3.3     | 90 KB     | ##################################### | 100% \n",
      "ipykernel-5.3.4      | 176 KB    | ##################################### | 100% \n",
      "typing_extensions-3. | 29 KB     | ##################################### | 100% \n",
      "ptyprocess-0.6.0     | 23 KB     | ##################################### | 100% \n",
      "pyqt-5.9.2           | 5.6 MB    | ##################################### | 100% \n",
      "zipp-3.3.1           | 11 KB     | ##################################### | 100% \n",
      "intel-openmp-2020.2  | 947 KB    | ##################################### | 100% \n",
      "ibm-wsrt-py37main-ma | 2 KB      | ##################################### | 100% \n",
      "gmp-6.1.2            | 744 KB    | ##################################### | 100% \n",
      "importlib-metadata-2 | 35 KB     | ##################################### | 100% \n",
      "traitlets-5.0.5      | 81 KB     | ##################################### | 100% \n",
      "dbus-1.13.18         | 586 KB    | ##################################### | 100% \n",
      "termcolor-1.1.0      | 7 KB      | ##################################### | 100% \n",
      "cloudpickle-1.6.0    | 29 KB     | ##################################### | 100% \n",
      "google-pasta-0.2.0   | 44 KB     | ##################################### | 100% \n",
      "soupsieve-2.0.1      | 33 KB     | ##################################### | 100% \n",
      "ipython_genutils-0.2 | 39 KB     | ##################################### | 100% \n",
      "cycler-0.10.0        | 13 KB     | ##################################### | 100% \n",
      "jupyterlab-2.2.6     | 5.9 MB    | ##################################### | 100% \n",
      "libprotobuf-3.13.0.1 | 2.3 MB    | ##################################### | 100% \n",
      "pyasn1-modules-0.2.8 | 67 KB     | ##################################### | 100% \n",
      "patsy-0.5.1          | 375 KB    | ##################################### | 100% \n",
      "lz4-c-1.9.2          | 203 KB    | ##################################### | 100% \n",
      "qt-5.9.7             | 85.9 MB   | ##################################### | 100% \n",
      "jmespath-0.10.0      | 22 KB     | ##################################### | 100% \n",
      "pyrsistent-0.17.3    | 89 KB     | ##################################### | 100% \n",
      "nltk-3.5             | 1.1 MB    | ##################################### | 100% \n",
      "testpath-0.4.4       | 88 KB     | ##################################### | 100% \n",
      "libuuid-1.0.3        | 16 KB     | ##################################### | 100% \n",
      "pyzmq-19.0.2         | 499 KB    | ##################################### | 100% \n",
      "nbclient-0.5.1       | 60 KB     | ##################################### | 100% \n",
      "async-timeout-3.0.1  | 12 KB     | ##################################### | 100% \n",
      "bleach-3.2.1         | 111 KB    | ##################################### | 100% \n",
      "tensorflow-base-2.3. | 302.8 MB  | ##################################### | 100% \n",
      "xlrd-1.2.0           | 186 KB    | ##################################### | 100% \n",
      "networkx-2.5         | 1.2 MB    | ##################################### | 100% \n",
      "_pytorch_select-0.1  | 2 KB      | ##################################### | 100% \n",
      "Preparing transaction: done\n",
      "Verifying transaction: done\n",
      "Executing transaction: done\n"
     ]
    }
   ],
   "source": [
    "# notice: installing seaborn might takes a few minutes\n",
    "!conda install -c anaconda seaborn -y"
   ]
  },
  {
   "cell_type": "code",
   "execution_count": 27,
   "metadata": {},
   "outputs": [
    {
     "name": "stdout",
     "output_type": "stream",
     "text": [
      "Collecting matplotlib==3.1.3\n",
      "  Downloading matplotlib-3.1.3-cp37-cp37m-manylinux1_x86_64.whl (13.1 MB)\n",
      "\u001b[K     |████████████████████████████████| 13.1 MB 15.0 MB/s eta 0:00:01\n",
      "\u001b[?25hRequirement already satisfied: kiwisolver>=1.0.1 in /opt/conda/envs/Python-3.7-main/lib/python3.7/site-packages (from matplotlib==3.1.3) (1.2.0)\n",
      "Requirement already satisfied: cycler>=0.10 in /opt/conda/envs/Python-3.7-main/lib/python3.7/site-packages (from matplotlib==3.1.3) (0.10.0)\n",
      "Requirement already satisfied: numpy>=1.11 in /opt/conda/envs/Python-3.7-main/lib/python3.7/site-packages (from matplotlib==3.1.3) (1.19.1)\n",
      "Requirement already satisfied: python-dateutil>=2.1 in /opt/conda/envs/Python-3.7-main/lib/python3.7/site-packages (from matplotlib==3.1.3) (2.8.1)\n",
      "Requirement already satisfied: pyparsing!=2.0.4,!=2.1.2,!=2.1.6,>=2.0.1 in /opt/conda/envs/Python-3.7-main/lib/python3.7/site-packages (from matplotlib==3.1.3) (2.4.7)\n",
      "Requirement already satisfied: six in /opt/conda/envs/Python-3.7-main/lib/python3.7/site-packages (from cycler>=0.10->matplotlib==3.1.3) (1.15.0)\n",
      "Installing collected packages: matplotlib\n",
      "  Attempting uninstall: matplotlib\n",
      "    Found existing installation: matplotlib 3.3.1\n",
      "    Uninstalling matplotlib-3.3.1:\n",
      "      Successfully uninstalled matplotlib-3.3.1\n",
      "Successfully installed matplotlib-3.1.3\n"
     ]
    }
   ],
   "source": [
    "#python -m pip uninstall matplotlib\n",
    "!pip install matplotlib==3.1.3"
   ]
  },
  {
   "cell_type": "code",
   "execution_count": 28,
   "metadata": {},
   "outputs": [
    {
     "data": {
      "image/png": "[encoded data removed]",
      "text/plain": [
       "<Figure size 432x216 with 2 Axes>"
      ]
     },
     "metadata": {
      "needs_background": "light"
     },
     "output_type": "display_data"
    }
   ],
   "source": [
    "import seaborn as sns\n",
    "\n",
    "bins = np.linspace(df.Principal.min(), df.Principal.max(), 10)\n",
    "g = sns.FacetGrid(df, col=\"Gender\", hue=\"loan_status\", palette=\"Set1\", col_wrap=2)\n",
    "g.map(plt.hist, 'Principal', bins=bins, ec=\"k\")\n",
    "\n",
    "g.axes[-1].legend()\n",
    "plt.show()"
   ]
  },
  {
   "cell_type": "code",
   "execution_count": 30,
   "metadata": {},
   "outputs": [
    {
     "data": {
      "image/png": "[encoded data removed]",
      "text/plain": [
       "<Figure size 432x216 with 2 Axes>"
      ]
     },
     "metadata": {
      "needs_background": "light"
     },
     "output_type": "display_data"
    }
   ],
   "source": [
    "bins = np.linspace(df.age.min(), df.age.max(), 10)\n",
    "g = sns.FacetGrid(df, col=\"Gender\", hue=\"loan_status\", palette=\"Set1\", col_wrap=2)\n",
    "g.map(plt.hist, 'age', bins=bins, ec=\"k\")\n",
    "\n",
    "g.axes[-1].legend()\n",
    "plt.show()"
   ]
  },
  {
   "cell_type": "markdown",
   "metadata": {},
   "source": [
    "# Pre-processing: Feature selection/extraction"
   ]
  },
  {
   "cell_type": "markdown",
   "metadata": {},
   "source": [
    "**Lets look at the day of the week people get the loan**"
   ]
  },
  {
   "cell_type": "code",
   "execution_count": 31,
   "metadata": {},
   "outputs": [
    {
     "data": {
      "image/png": "[encoded data removed]",
      "text/plain": [
       "<Figure size 432x216 with 2 Axes>"
      ]
     },
     "metadata": {
      "needs_background": "light"
     },
     "output_type": "display_data"
    }
   ],
   "source": [
    "df['dayofweek'] = df['effective_date'].dt.dayofweek\n",
    "bins = np.linspace(df.dayofweek.min(), df.dayofweek.max(), 10)\n",
    "g = sns.FacetGrid(df, col=\"Gender\", hue=\"loan_status\", palette=\"Set1\", col_wrap=2)\n",
    "g.map(plt.hist, 'dayofweek', bins=bins, ec=\"k\")\n",
    "g.axes[-1].legend()\n",
    "plt.show()"
   ]
  },
  {
   "cell_type": "markdown",
   "metadata": {},
   "source": [
    "We see that people who get the loan at the end of the week dont pay it off, so lets use Feature binarization to set a threshold values less then day 4 "
   ]
  },
  {
   "cell_type": "code",
   "execution_count": 32,
   "metadata": {},
   "outputs": [
    {
     "data": {
      "text/html": [
       "<div>\n",
       "<style scoped>\n",
       "    .dataframe tbody tr th:only-of-type {\n",
       "        vertical-align: middle;\n",
       "    }\n",
       "\n",
       "    .dataframe tbody tr th {\n",
       "        vertical-align: top;\n",
       "    }\n",
       "\n",
       "    .dataframe thead th {\n",
       "        text-align: right;\n",
       "    }\n",
       "</style>\n",
       "<table border=\"1\" class=\"dataframe\">\n",
       "  <thead>\n",
       "    <tr style=\"text-align: right;\">\n",
       "      <th></th>\n",
       "      <th>Unnamed: 0</th>\n",
       "      <th>Unnamed: 0.1</th>\n",
       "      <th>loan_status</th>\n",
       "      <th>Principal</th>\n",
       "      <th>terms</th>\n",
       "      <th>effective_date</th>\n",
       "      <th>due_date</th>\n",
       "      <th>age</th>\n",
       "      <th>education</th>\n",
       "      <th>Gender</th>\n",
       "      <th>dayofweek</th>\n",
       "      <th>weekend</th>\n",
       "    </tr>\n",
       "  </thead>\n",
       "  <tbody>\n",
       "    <tr>\n",
       "      <th>0</th>\n",
       "      <td>0</td>\n",
       "      <td>0</td>\n",
       "      <td>PAIDOFF</td>\n",
       "      <td>1000</td>\n",
       "      <td>30</td>\n",
       "      <td>2016-09-08</td>\n",
       "      <td>2016-10-07</td>\n",
       "      <td>45</td>\n",
       "      <td>High School or Below</td>\n",
       "      <td>male</td>\n",
       "      <td>3</td>\n",
       "      <td>0</td>\n",
       "    </tr>\n",
       "    <tr>\n",
       "      <th>1</th>\n",
       "      <td>2</td>\n",
       "      <td>2</td>\n",
       "      <td>PAIDOFF</td>\n",
       "      <td>1000</td>\n",
       "      <td>30</td>\n",
       "      <td>2016-09-08</td>\n",
       "      <td>2016-10-07</td>\n",
       "      <td>33</td>\n",
       "      <td>Bechalor</td>\n",
       "      <td>female</td>\n",
       "      <td>3</td>\n",
       "      <td>0</td>\n",
       "    </tr>\n",
       "    <tr>\n",
       "      <th>2</th>\n",
       "      <td>3</td>\n",
       "      <td>3</td>\n",
       "      <td>PAIDOFF</td>\n",
       "      <td>1000</td>\n",
       "      <td>15</td>\n",
       "      <td>2016-09-08</td>\n",
       "      <td>2016-09-22</td>\n",
       "      <td>27</td>\n",
       "      <td>college</td>\n",
       "      <td>male</td>\n",
       "      <td>3</td>\n",
       "      <td>0</td>\n",
       "    </tr>\n",
       "    <tr>\n",
       "      <th>3</th>\n",
       "      <td>4</td>\n",
       "      <td>4</td>\n",
       "      <td>PAIDOFF</td>\n",
       "      <td>1000</td>\n",
       "      <td>30</td>\n",
       "      <td>2016-09-09</td>\n",
       "      <td>2016-10-08</td>\n",
       "      <td>28</td>\n",
       "      <td>college</td>\n",
       "      <td>female</td>\n",
       "      <td>4</td>\n",
       "      <td>1</td>\n",
       "    </tr>\n",
       "    <tr>\n",
       "      <th>4</th>\n",
       "      <td>6</td>\n",
       "      <td>6</td>\n",
       "      <td>PAIDOFF</td>\n",
       "      <td>1000</td>\n",
       "      <td>30</td>\n",
       "      <td>2016-09-09</td>\n",
       "      <td>2016-10-08</td>\n",
       "      <td>29</td>\n",
       "      <td>college</td>\n",
       "      <td>male</td>\n",
       "      <td>4</td>\n",
       "      <td>1</td>\n",
       "    </tr>\n",
       "  </tbody>\n",
       "</table>\n",
       "</div>"
      ],
      "text/plain": [
       "   Unnamed: 0  Unnamed: 0.1 loan_status  Principal  terms effective_date  \\\n",
       "0           0             0     PAIDOFF       1000     30     2016-09-08   \n",
       "1           2             2     PAIDOFF       1000     30     2016-09-08   \n",
       "2           3             3     PAIDOFF       1000     15     2016-09-08   \n",
       "3           4             4     PAIDOFF       1000     30     2016-09-09   \n",
       "4           6             6     PAIDOFF       1000     30     2016-09-09   \n",
       "\n",
       "    due_date  age             education  Gender  dayofweek  weekend  \n",
       "0 2016-10-07   45  High School or Below    male          3        0  \n",
       "1 2016-10-07   33              Bechalor  female          3        0  \n",
       "2 2016-09-22   27               college    male          3        0  \n",
       "3 2016-10-08   28               college  female          4        1  \n",
       "4 2016-10-08   29               college    male          4        1  "
      ]
     },
     "execution_count": 32,
     "metadata": {},
     "output_type": "execute_result"
    }
   ],
   "source": [
    "df['weekend'] = df['dayofweek'].apply(lambda x: 1 if (x>3)  else 0)\n",
    "df.head()"
   ]
  },
  {
   "cell_type": "markdown",
   "metadata": {},
   "source": [
    "## Convert Categorical features to numerical values"
   ]
  },
  {
   "cell_type": "markdown",
   "metadata": {},
   "source": [
    "Lets look at gender"
   ]
  },
  {
   "cell_type": "code",
   "execution_count": 33,
   "metadata": {},
   "outputs": [
    {
     "data": {
      "text/plain": [
       "Gender  loan_status\n",
       "female  PAIDOFF        0.865385\n",
       "        COLLECTION     0.134615\n",
       "male    PAIDOFF        0.731293\n",
       "        COLLECTION     0.268707\n",
       "Name: loan_status, dtype: float64"
      ]
     },
     "execution_count": 33,
     "metadata": {},
     "output_type": "execute_result"
    }
   ],
   "source": [
    "df.groupby(['Gender'])['loan_status'].value_counts(normalize=True)"
   ]
  },
  {
   "cell_type": "markdown",
   "metadata": {},
   "source": [
    "**86 % of female pay their loans and 73 % of males pay their loan.**"
   ]
  },
  {
   "cell_type": "markdown",
   "metadata": {},
   "source": [
    "Lets convert male to 0 and female to 1:"
   ]
  },
  {
   "cell_type": "code",
   "execution_count": 34,
   "metadata": {
    "scrolled": true
   },
   "outputs": [
    {
     "data": {
      "text/html": [
       "<div>\n",
       "<style scoped>\n",
       "    .dataframe tbody tr th:only-of-type {\n",
       "        vertical-align: middle;\n",
       "    }\n",
       "\n",
       "    .dataframe tbody tr th {\n",
       "        vertical-align: top;\n",
       "    }\n",
       "\n",
       "    .dataframe thead th {\n",
       "        text-align: right;\n",
       "    }\n",
       "</style>\n",
       "<table border=\"1\" class=\"dataframe\">\n",
       "  <thead>\n",
       "    <tr style=\"text-align: right;\">\n",
       "      <th></th>\n",
       "      <th>Unnamed: 0</th>\n",
       "      <th>Unnamed: 0.1</th>\n",
       "      <th>loan_status</th>\n",
       "      <th>Principal</th>\n",
       "      <th>terms</th>\n",
       "      <th>effective_date</th>\n",
       "      <th>due_date</th>\n",
       "      <th>age</th>\n",
       "      <th>education</th>\n",
       "      <th>Gender</th>\n",
       "      <th>dayofweek</th>\n",
       "      <th>weekend</th>\n",
       "    </tr>\n",
       "  </thead>\n",
       "  <tbody>\n",
       "    <tr>\n",
       "      <th>0</th>\n",
       "      <td>0</td>\n",
       "      <td>0</td>\n",
       "      <td>PAIDOFF</td>\n",
       "      <td>1000</td>\n",
       "      <td>30</td>\n",
       "      <td>2016-09-08</td>\n",
       "      <td>2016-10-07</td>\n",
       "      <td>45</td>\n",
       "      <td>High School or Below</td>\n",
       "      <td>0</td>\n",
       "      <td>3</td>\n",
       "      <td>0</td>\n",
       "    </tr>\n",
       "    <tr>\n",
       "      <th>1</th>\n",
       "      <td>2</td>\n",
       "      <td>2</td>\n",
       "      <td>PAIDOFF</td>\n",
       "      <td>1000</td>\n",
       "      <td>30</td>\n",
       "      <td>2016-09-08</td>\n",
       "      <td>2016-10-07</td>\n",
       "      <td>33</td>\n",
       "      <td>Bechalor</td>\n",
       "      <td>1</td>\n",
       "      <td>3</td>\n",
       "      <td>0</td>\n",
       "    </tr>\n",
       "    <tr>\n",
       "      <th>2</th>\n",
       "      <td>3</td>\n",
       "      <td>3</td>\n",
       "      <td>PAIDOFF</td>\n",
       "      <td>1000</td>\n",
       "      <td>15</td>\n",
       "      <td>2016-09-08</td>\n",
       "      <td>2016-09-22</td>\n",
       "      <td>27</td>\n",
       "      <td>college</td>\n",
       "      <td>0</td>\n",
       "      <td>3</td>\n",
       "      <td>0</td>\n",
       "    </tr>\n",
       "    <tr>\n",
       "      <th>3</th>\n",
       "      <td>4</td>\n",
       "      <td>4</td>\n",
       "      <td>PAIDOFF</td>\n",
       "      <td>1000</td>\n",
       "      <td>30</td>\n",
       "      <td>2016-09-09</td>\n",
       "      <td>2016-10-08</td>\n",
       "      <td>28</td>\n",
       "      <td>college</td>\n",
       "      <td>1</td>\n",
       "      <td>4</td>\n",
       "      <td>1</td>\n",
       "    </tr>\n",
       "    <tr>\n",
       "      <th>4</th>\n",
       "      <td>6</td>\n",
       "      <td>6</td>\n",
       "      <td>PAIDOFF</td>\n",
       "      <td>1000</td>\n",
       "      <td>30</td>\n",
       "      <td>2016-09-09</td>\n",
       "      <td>2016-10-08</td>\n",
       "      <td>29</td>\n",
       "      <td>college</td>\n",
       "      <td>0</td>\n",
       "      <td>4</td>\n",
       "      <td>1</td>\n",
       "    </tr>\n",
       "  </tbody>\n",
       "</table>\n",
       "</div>"
      ],
      "text/plain": [
       "   Unnamed: 0  Unnamed: 0.1 loan_status  Principal  terms effective_date  \\\n",
       "0           0             0     PAIDOFF       1000     30     2016-09-08   \n",
       "1           2             2     PAIDOFF       1000     30     2016-09-08   \n",
       "2           3             3     PAIDOFF       1000     15     2016-09-08   \n",
       "3           4             4     PAIDOFF       1000     30     2016-09-09   \n",
       "4           6             6     PAIDOFF       1000     30     2016-09-09   \n",
       "\n",
       "    due_date  age             education  Gender  dayofweek  weekend  \n",
       "0 2016-10-07   45  High School or Below       0          3        0  \n",
       "1 2016-10-07   33              Bechalor       1          3        0  \n",
       "2 2016-09-22   27               college       0          3        0  \n",
       "3 2016-10-08   28               college       1          4        1  \n",
       "4 2016-10-08   29               college       0          4        1  "
      ]
     },
     "execution_count": 34,
     "metadata": {},
     "output_type": "execute_result"
    }
   ],
   "source": [
    "df['Gender'].replace(to_replace=['male','female'],value=[0,1],inplace=True)\n",
    "df.head()"
   ]
  },
  {
   "cell_type": "markdown",
   "metadata": {},
   "source": [
    "<font color='purple'>**male = 0<br>         female = 1**"
   ]
  },
  {
   "cell_type": "markdown",
   "metadata": {},
   "source": [
    "# One Hot Encoding\n",
    "## How about education?"
   ]
  },
  {
   "cell_type": "code",
   "execution_count": 35,
   "metadata": {},
   "outputs": [
    {
     "data": {
      "text/plain": [
       "education             loan_status\n",
       "Bechalor              PAIDOFF        0.750000\n",
       "                      COLLECTION     0.250000\n",
       "High School or Below  PAIDOFF        0.741722\n",
       "                      COLLECTION     0.258278\n",
       "Master or Above       COLLECTION     0.500000\n",
       "                      PAIDOFF        0.500000\n",
       "college               PAIDOFF        0.765101\n",
       "                      COLLECTION     0.234899\n",
       "Name: loan_status, dtype: float64"
      ]
     },
     "execution_count": 35,
     "metadata": {},
     "output_type": "execute_result"
    }
   ],
   "source": [
    "df.groupby(['education'])['loan_status'].value_counts(normalize=True)"
   ]
  },
  {
   "cell_type": "markdown",
   "metadata": {},
   "source": [
    "**75 % of bachelor, 74 % of highschool or below, 50 % of master or above, and 76 % of college pay their loan.**"
   ]
  },
  {
   "cell_type": "markdown",
   "metadata": {},
   "source": [
    "**Feature before One Hot Encoding**"
   ]
  },
  {
   "cell_type": "code",
   "execution_count": 36,
   "metadata": {},
   "outputs": [
    {
     "data": {
      "text/html": [
       "<div>\n",
       "<style scoped>\n",
       "    .dataframe tbody tr th:only-of-type {\n",
       "        vertical-align: middle;\n",
       "    }\n",
       "\n",
       "    .dataframe tbody tr th {\n",
       "        vertical-align: top;\n",
       "    }\n",
       "\n",
       "    .dataframe thead th {\n",
       "        text-align: right;\n",
       "    }\n",
       "</style>\n",
       "<table border=\"1\" class=\"dataframe\">\n",
       "  <thead>\n",
       "    <tr style=\"text-align: right;\">\n",
       "      <th></th>\n",
       "      <th>Principal</th>\n",
       "      <th>terms</th>\n",
       "      <th>Gender</th>\n",
       "      <th>education</th>\n",
       "    </tr>\n",
       "  </thead>\n",
       "  <tbody>\n",
       "    <tr>\n",
       "      <th>0</th>\n",
       "      <td>1000</td>\n",
       "      <td>30</td>\n",
       "      <td>0</td>\n",
       "      <td>High School or Below</td>\n",
       "    </tr>\n",
       "    <tr>\n",
       "      <th>1</th>\n",
       "      <td>1000</td>\n",
       "      <td>30</td>\n",
       "      <td>1</td>\n",
       "      <td>Bechalor</td>\n",
       "    </tr>\n",
       "    <tr>\n",
       "      <th>2</th>\n",
       "      <td>1000</td>\n",
       "      <td>15</td>\n",
       "      <td>0</td>\n",
       "      <td>college</td>\n",
       "    </tr>\n",
       "    <tr>\n",
       "      <th>3</th>\n",
       "      <td>1000</td>\n",
       "      <td>30</td>\n",
       "      <td>1</td>\n",
       "      <td>college</td>\n",
       "    </tr>\n",
       "    <tr>\n",
       "      <th>4</th>\n",
       "      <td>1000</td>\n",
       "      <td>30</td>\n",
       "      <td>0</td>\n",
       "      <td>college</td>\n",
       "    </tr>\n",
       "  </tbody>\n",
       "</table>\n",
       "</div>"
      ],
      "text/plain": [
       "   Principal  terms  Gender             education\n",
       "0       1000     30       0  High School or Below\n",
       "1       1000     30       1              Bechalor\n",
       "2       1000     15       0               college\n",
       "3       1000     30       1               college\n",
       "4       1000     30       0               college"
      ]
     },
     "execution_count": 36,
     "metadata": {},
     "output_type": "execute_result"
    }
   ],
   "source": [
    "df[['Principal','terms','Gender','education']].head()"
   ]
  },
  {
   "cell_type": "markdown",
   "metadata": {},
   "source": [
    "<font color='blue'>**Use one hot encoding technique to convert categorical variables into binary variables and append them to the feature Data Frame**"
   ]
  },
  {
   "cell_type": "code",
   "execution_count": 37,
   "metadata": {},
   "outputs": [
    {
     "data": {
      "text/html": [
       "<div>\n",
       "<style scoped>\n",
       "    .dataframe tbody tr th:only-of-type {\n",
       "        vertical-align: middle;\n",
       "    }\n",
       "\n",
       "    .dataframe tbody tr th {\n",
       "        vertical-align: top;\n",
       "    }\n",
       "\n",
       "    .dataframe thead th {\n",
       "        text-align: right;\n",
       "    }\n",
       "</style>\n",
       "<table border=\"1\" class=\"dataframe\">\n",
       "  <thead>\n",
       "    <tr style=\"text-align: right;\">\n",
       "      <th></th>\n",
       "      <th>Principal</th>\n",
       "      <th>terms</th>\n",
       "      <th>age</th>\n",
       "      <th>Gender</th>\n",
       "      <th>weekend</th>\n",
       "      <th>Bechalor</th>\n",
       "      <th>High School or Below</th>\n",
       "      <th>college</th>\n",
       "    </tr>\n",
       "  </thead>\n",
       "  <tbody>\n",
       "    <tr>\n",
       "      <th>0</th>\n",
       "      <td>1000</td>\n",
       "      <td>30</td>\n",
       "      <td>45</td>\n",
       "      <td>0</td>\n",
       "      <td>0</td>\n",
       "      <td>0</td>\n",
       "      <td>1</td>\n",
       "      <td>0</td>\n",
       "    </tr>\n",
       "    <tr>\n",
       "      <th>1</th>\n",
       "      <td>1000</td>\n",
       "      <td>30</td>\n",
       "      <td>33</td>\n",
       "      <td>1</td>\n",
       "      <td>0</td>\n",
       "      <td>1</td>\n",
       "      <td>0</td>\n",
       "      <td>0</td>\n",
       "    </tr>\n",
       "    <tr>\n",
       "      <th>2</th>\n",
       "      <td>1000</td>\n",
       "      <td>15</td>\n",
       "      <td>27</td>\n",
       "      <td>0</td>\n",
       "      <td>0</td>\n",
       "      <td>0</td>\n",
       "      <td>0</td>\n",
       "      <td>1</td>\n",
       "    </tr>\n",
       "    <tr>\n",
       "      <th>3</th>\n",
       "      <td>1000</td>\n",
       "      <td>30</td>\n",
       "      <td>28</td>\n",
       "      <td>1</td>\n",
       "      <td>1</td>\n",
       "      <td>0</td>\n",
       "      <td>0</td>\n",
       "      <td>1</td>\n",
       "    </tr>\n",
       "    <tr>\n",
       "      <th>4</th>\n",
       "      <td>1000</td>\n",
       "      <td>30</td>\n",
       "      <td>29</td>\n",
       "      <td>0</td>\n",
       "      <td>1</td>\n",
       "      <td>0</td>\n",
       "      <td>0</td>\n",
       "      <td>1</td>\n",
       "    </tr>\n",
       "  </tbody>\n",
       "</table>\n",
       "</div>"
      ],
      "text/plain": [
       "   Principal  terms  age  Gender  weekend  Bechalor  High School or Below  \\\n",
       "0       1000     30   45       0        0         0                     1   \n",
       "1       1000     30   33       1        0         1                     0   \n",
       "2       1000     15   27       0        0         0                     0   \n",
       "3       1000     30   28       1        1         0                     0   \n",
       "4       1000     30   29       0        1         0                     0   \n",
       "\n",
       "   college  \n",
       "0        0  \n",
       "1        0  \n",
       "2        1  \n",
       "3        1  \n",
       "4        1  "
      ]
     },
     "execution_count": 37,
     "metadata": {},
     "output_type": "execute_result"
    }
   ],
   "source": [
    "Feature = df [['Principal','terms','age','Gender','weekend']]\n",
    "Feature = pd.concat([Feature,pd.get_dummies(df['education'])],axis=1)\n",
    "Feature.drop(['Master or Above'],axis=1,inplace=True)\n",
    "Feature.head()"
   ]
  },
  {
   "cell_type": "markdown",
   "metadata": {},
   "source": [
    "**Feature Selection**"
   ]
  },
  {
   "cell_type": "markdown",
   "metadata": {},
   "source": [
    "Lets defined feature sets, X:"
   ]
  },
  {
   "cell_type": "code",
   "execution_count": 38,
   "metadata": {},
   "outputs": [
    {
     "data": {
      "text/html": [
       "<div>\n",
       "<style scoped>\n",
       "    .dataframe tbody tr th:only-of-type {\n",
       "        vertical-align: middle;\n",
       "    }\n",
       "\n",
       "    .dataframe tbody tr th {\n",
       "        vertical-align: top;\n",
       "    }\n",
       "\n",
       "    .dataframe thead th {\n",
       "        text-align: right;\n",
       "    }\n",
       "</style>\n",
       "<table border=\"1\" class=\"dataframe\">\n",
       "  <thead>\n",
       "    <tr style=\"text-align: right;\">\n",
       "      <th></th>\n",
       "      <th>Principal</th>\n",
       "      <th>terms</th>\n",
       "      <th>age</th>\n",
       "      <th>Gender</th>\n",
       "      <th>weekend</th>\n",
       "      <th>Bechalor</th>\n",
       "      <th>High School or Below</th>\n",
       "      <th>college</th>\n",
       "    </tr>\n",
       "  </thead>\n",
       "  <tbody>\n",
       "    <tr>\n",
       "      <th>0</th>\n",
       "      <td>1000</td>\n",
       "      <td>30</td>\n",
       "      <td>45</td>\n",
       "      <td>0</td>\n",
       "      <td>0</td>\n",
       "      <td>0</td>\n",
       "      <td>1</td>\n",
       "      <td>0</td>\n",
       "    </tr>\n",
       "    <tr>\n",
       "      <th>1</th>\n",
       "      <td>1000</td>\n",
       "      <td>30</td>\n",
       "      <td>33</td>\n",
       "      <td>1</td>\n",
       "      <td>0</td>\n",
       "      <td>1</td>\n",
       "      <td>0</td>\n",
       "      <td>0</td>\n",
       "    </tr>\n",
       "    <tr>\n",
       "      <th>2</th>\n",
       "      <td>1000</td>\n",
       "      <td>15</td>\n",
       "      <td>27</td>\n",
       "      <td>0</td>\n",
       "      <td>0</td>\n",
       "      <td>0</td>\n",
       "      <td>0</td>\n",
       "      <td>1</td>\n",
       "    </tr>\n",
       "    <tr>\n",
       "      <th>3</th>\n",
       "      <td>1000</td>\n",
       "      <td>30</td>\n",
       "      <td>28</td>\n",
       "      <td>1</td>\n",
       "      <td>1</td>\n",
       "      <td>0</td>\n",
       "      <td>0</td>\n",
       "      <td>1</td>\n",
       "    </tr>\n",
       "    <tr>\n",
       "      <th>4</th>\n",
       "      <td>1000</td>\n",
       "      <td>30</td>\n",
       "      <td>29</td>\n",
       "      <td>0</td>\n",
       "      <td>1</td>\n",
       "      <td>0</td>\n",
       "      <td>0</td>\n",
       "      <td>1</td>\n",
       "    </tr>\n",
       "  </tbody>\n",
       "</table>\n",
       "</div>"
      ],
      "text/plain": [
       "   Principal  terms  age  Gender  weekend  Bechalor  High School or Below  \\\n",
       "0       1000     30   45       0        0         0                     1   \n",
       "1       1000     30   33       1        0         1                     0   \n",
       "2       1000     15   27       0        0         0                     0   \n",
       "3       1000     30   28       1        1         0                     0   \n",
       "4       1000     30   29       0        1         0                     0   \n",
       "\n",
       "   college  \n",
       "0        0  \n",
       "1        0  \n",
       "2        1  \n",
       "3        1  \n",
       "4        1  "
      ]
     },
     "execution_count": 38,
     "metadata": {},
     "output_type": "execute_result"
    }
   ],
   "source": [
    "X = Feature\n",
    "X[0:5]"
   ]
  },
  {
   "cell_type": "markdown",
   "metadata": {},
   "source": [
    "**What are our labels?**"
   ]
  },
  {
   "cell_type": "code",
   "execution_count": 39,
   "metadata": {},
   "outputs": [
    {
     "data": {
      "text/plain": [
       "array(['PAIDOFF', 'PAIDOFF', 'PAIDOFF', 'PAIDOFF', 'PAIDOFF'],\n",
       "      dtype=object)"
      ]
     },
     "execution_count": 39,
     "metadata": {},
     "output_type": "execute_result"
    }
   ],
   "source": [
    "y = df['loan_status'].values\n",
    "y[0:5]"
   ]
  },
  {
   "cell_type": "markdown",
   "metadata": {},
   "source": [
    "## Normalize Data\n",
    "Data Standardization give data zero mean and unit variance, it is good practice, especially for algorithms such as KNN which is based on distance of cases:"
   ]
  },
  {
   "cell_type": "code",
   "execution_count": 40,
   "metadata": {},
   "outputs": [
    {
     "data": {
      "text/plain": [
       "array([[ 0.51578458,  0.92071769,  2.33152555, -0.42056004, -1.20577805,\n",
       "        -0.38170062,  1.13639374, -0.86968108],\n",
       "       [ 0.51578458,  0.92071769,  0.34170148,  2.37778177, -1.20577805,\n",
       "         2.61985426, -0.87997669, -0.86968108],\n",
       "       [ 0.51578458, -0.95911111, -0.65321055, -0.42056004, -1.20577805,\n",
       "        -0.38170062, -0.87997669,  1.14984679],\n",
       "       [ 0.51578458,  0.92071769, -0.48739188,  2.37778177,  0.82934003,\n",
       "        -0.38170062, -0.87997669,  1.14984679],\n",
       "       [ 0.51578458,  0.92071769, -0.3215732 , -0.42056004,  0.82934003,\n",
       "        -0.38170062, -0.87997669,  1.14984679]])"
      ]
     },
     "execution_count": 40,
     "metadata": {},
     "output_type": "execute_result"
    }
   ],
   "source": [
    "X= preprocessing.StandardScaler().fit(X).transform(X)\n",
    "X[0:5]"
   ]
  },
  {
   "cell_type": "markdown",
   "metadata": {},
   "source": [
    "# Classification "
   ]
  },
  {
   "cell_type": "markdown",
   "metadata": {},
   "source": [
    "Now, it is your turn, use the training set to build an accurate model. Then use the test set to report the accuracy of the model\n",
    "You should use the following algorithm:\n",
    "- K Nearest Neighbor(KNN)\n",
    "- Decision Tree\n",
    "- Support Vector Machine\n",
    "- Logistic Regression\n",
    "\n",
    "\n",
    "\n",
    "__ Notice:__ \n",
    "- You can go above and change the pre-processing, feature selection, feature-extraction, and so on, to make a better model.\n",
    "- You should use either scikit-learn, Scipy or Numpy libraries for developing the classification algorithms.\n",
    "- You should include the code of the algorithm in the following cells."
   ]
  },
  {
   "cell_type": "markdown",
   "metadata": {},
   "source": [
    "# K Nearest Neighbor(KNN) \n",
    "Notice: You should find the best k to build the model with the best accuracy.  \n",
    "**warning:** You should not use the __loan_test.csv__ for finding the best k, however, you can split your train_loan.csv into train and test to find the best __k__."
   ]
  },
  {
   "cell_type": "code",
   "execution_count": 42,
   "metadata": {},
   "outputs": [
    {
     "name": "stdout",
     "output_type": "stream",
     "text": [
      "Train set: (276, 8) (276,)\n",
      "Test set: (70, 8) (70,)\n"
     ]
    }
   ],
   "source": [
    "# We split the X into train (80%) test(20%) to find the best k\n",
    "from sklearn.model_selection import train_test_split\n",
    "X_train,X_test,y_train,y_test=train_test_split(X,y,test_size=0.2,random_state=4)\n",
    "print('Train set:',X_train.shape,y_train.shape)\n",
    "print('Test set:',X_test.shape,y_test.shape)"
   ]
  },
  {
   "cell_type": "code",
   "execution_count": 43,
   "metadata": {},
   "outputs": [
    {
     "data": {
      "text/plain": [
       "KNeighborsClassifier(n_neighbors=3)"
      ]
     },
     "execution_count": 43,
     "metadata": {},
     "output_type": "execute_result"
    }
   ],
   "source": [
    "# Modeling\n",
    "from sklearn.neighbors import KNeighborsClassifier\n",
    "k = 3\n",
    "#Train Model and Predict  \n",
    "kNN_model = KNeighborsClassifier(n_neighbors=k).fit(X_train,y_train)\n",
    "kNN_model"
   ]
  },
  {
   "cell_type": "code",
   "execution_count": 44,
   "metadata": {},
   "outputs": [
    {
     "data": {
      "text/plain": [
       "array(['PAIDOFF', 'PAIDOFF', 'PAIDOFF', 'PAIDOFF', 'PAIDOFF'],\n",
       "      dtype=object)"
      ]
     },
     "execution_count": 44,
     "metadata": {},
     "output_type": "execute_result"
    }
   ],
   "source": [
    "# just for sanity chaeck\n",
    "yhat = kNN_model.predict(X_test)\n",
    "yhat[0:5]"
   ]
  },
  {
   "cell_type": "markdown",
   "metadata": {},
   "source": [
    "## Choose the best K"
   ]
  },
  {
   "cell_type": "code",
   "execution_count": 45,
   "metadata": {},
   "outputs": [
    {
     "data": {
      "text/plain": [
       "array([0.67142857, 0.65714286, 0.71428571, 0.68571429, 0.75714286,\n",
       "       0.71428571, 0.78571429, 0.75714286, 0.75714286, 0.67142857,\n",
       "       0.7       , 0.72857143, 0.7       , 0.7       ])"
      ]
     },
     "execution_count": 45,
     "metadata": {},
     "output_type": "execute_result"
    }
   ],
   "source": [
    "from sklearn.neighbors import KNeighborsClassifier\n",
    "# Best k\n",
    "Ks=15\n",
    "mean_acc=np.zeros((Ks-1))\n",
    "std_acc=np.zeros((Ks-1))\n",
    "ConfustionMx=[];\n",
    "for n in range(1,Ks):\n",
    "    \n",
    "    #Train Model and Predict  \n",
    "    kNN_model = KNeighborsClassifier(n_neighbors=n).fit(X_train,y_train)\n",
    "    yhat = kNN_model.predict(X_test)\n",
    "    \n",
    "    \n",
    "    mean_acc[n-1]=np.mean(yhat==y_test);\n",
    "    \n",
    "    std_acc[n-1]=np.std(yhat==y_test)/np.sqrt(yhat.shape[0])\n",
    "mean_acc"
   ]
  },
  {
   "cell_type": "code",
   "execution_count": 46,
   "metadata": {},
   "outputs": [
    {
     "data": {
      "image/png": "[encoded data removed]",
      "text/plain": [
       "<Figure size 432x288 with 1 Axes>"
      ]
     },
     "metadata": {
      "needs_background": "light"
     },
     "output_type": "display_data"
    }
   ],
   "source": [
    "plt.plot(range(1,Ks),mean_acc,'g')\n",
    "plt.fill_between(range(1,Ks),mean_acc - 1 * std_acc,mean_acc + 1 *std_acc, alpha=0.1)\n",
    "plt.fill_between(range(1,Ks),mean_acc - 3 * std_acc,mean_acc + 3 * std_acc, alpha=0.10,color=\"green\")\n",
    "plt.legend(('Accuracy ', '+/- 1xstd','+/- 3xstd'))\n",
    "plt.ylabel('Accuracy ')\n",
    "plt.xlabel('Number of Neighbors (K)')\n",
    "plt.tight_layout()\n",
    "plt.show()"
   ]
  },
  {
   "cell_type": "code",
   "execution_count": 47,
   "metadata": {},
   "outputs": [
    {
     "name": "stdout",
     "output_type": "stream",
     "text": [
      "The best accuracy was with 0.7857142857142857 with k = 7\n"
     ]
    }
   ],
   "source": [
    "print( \"The best accuracy was with\", mean_acc.max(), \"with k =\", mean_acc.argmax()+1) "
   ]
  },
  {
   "cell_type": "code",
   "execution_count": 48,
   "metadata": {},
   "outputs": [
    {
     "data": {
      "text/plain": [
       "KNeighborsClassifier(n_neighbors=7)"
      ]
     },
     "execution_count": 48,
     "metadata": {},
     "output_type": "execute_result"
    }
   ],
   "source": [
    "# Building the model again, using k=7\n",
    "from sklearn.neighbors import KNeighborsClassifier\n",
    "k = 7\n",
    "#Train Model and Predict  \n",
    "kNN_model = KNeighborsClassifier(n_neighbors=k).fit(X_train,y_train)\n",
    "kNN_model"
   ]
  },
  {
   "cell_type": "markdown",
   "metadata": {},
   "source": [
    "# Decision Tree"
   ]
  },
  {
   "cell_type": "code",
   "execution_count": 55,
   "metadata": {},
   "outputs": [
    {
     "data": {
      "text/plain": [
       "DecisionTreeClassifier(criterion='entropy', max_depth=4)"
      ]
     },
     "execution_count": 55,
     "metadata": {},
     "output_type": "execute_result"
    }
   ],
   "source": [
    "from sklearn.tree import DecisionTreeClassifier\n",
    "DT_model = DecisionTreeClassifier(criterion=\"entropy\", max_depth = 4)\n",
    "DT_model.fit(X_train,y_train)\n",
    "DT_model"
   ]
  },
  {
   "cell_type": "code",
   "execution_count": 56,
   "metadata": {},
   "outputs": [
    {
     "data": {
      "text/plain": [
       "array(['COLLECTION', 'COLLECTION', 'PAIDOFF', 'PAIDOFF', 'PAIDOFF',\n",
       "       'PAIDOFF', 'PAIDOFF', 'PAIDOFF', 'PAIDOFF', 'COLLECTION',\n",
       "       'PAIDOFF', 'COLLECTION', 'PAIDOFF', 'PAIDOFF', 'PAIDOFF',\n",
       "       'PAIDOFF', 'COLLECTION', 'PAIDOFF', 'COLLECTION', 'PAIDOFF',\n",
       "       'PAIDOFF', 'COLLECTION', 'COLLECTION', 'COLLECTION', 'PAIDOFF',\n",
       "       'COLLECTION', 'COLLECTION', 'PAIDOFF', 'COLLECTION', 'PAIDOFF',\n",
       "       'COLLECTION', 'COLLECTION', 'COLLECTION', 'PAIDOFF', 'PAIDOFF',\n",
       "       'PAIDOFF', 'COLLECTION', 'PAIDOFF', 'COLLECTION', 'PAIDOFF',\n",
       "       'COLLECTION', 'PAIDOFF', 'PAIDOFF', 'COLLECTION', 'PAIDOFF',\n",
       "       'COLLECTION', 'COLLECTION', 'COLLECTION', 'PAIDOFF', 'PAIDOFF',\n",
       "       'PAIDOFF', 'PAIDOFF', 'PAIDOFF', 'PAIDOFF', 'PAIDOFF', 'PAIDOFF',\n",
       "       'PAIDOFF', 'PAIDOFF', 'COLLECTION', 'PAIDOFF', 'PAIDOFF',\n",
       "       'PAIDOFF', 'PAIDOFF', 'COLLECTION', 'PAIDOFF', 'COLLECTION',\n",
       "       'PAIDOFF', 'COLLECTION', 'PAIDOFF', 'PAIDOFF'], dtype=object)"
      ]
     },
     "execution_count": 56,
     "metadata": {},
     "output_type": "execute_result"
    }
   ],
   "source": [
    "yhat = DT_model.predict(X_test)\n",
    "yhat"
   ]
  },
  {
   "cell_type": "markdown",
   "metadata": {},
   "source": [
    "# Support Vector Machine"
   ]
  },
  {
   "cell_type": "code",
   "execution_count": 57,
   "metadata": {},
   "outputs": [
    {
     "data": {
      "text/plain": [
       "SVC()"
      ]
     },
     "execution_count": 57,
     "metadata": {},
     "output_type": "execute_result"
    }
   ],
   "source": [
    "from sklearn import svm\n",
    "SVM_model = svm.SVC()\n",
    "SVM_model.fit(X_train, y_train) "
   ]
  },
  {
   "cell_type": "code",
   "execution_count": 58,
   "metadata": {},
   "outputs": [
    {
     "data": {
      "text/plain": [
       "array(['COLLECTION', 'PAIDOFF', 'PAIDOFF', 'PAIDOFF', 'PAIDOFF',\n",
       "       'PAIDOFF', 'COLLECTION', 'COLLECTION', 'PAIDOFF', 'PAIDOFF',\n",
       "       'PAIDOFF', 'PAIDOFF', 'PAIDOFF', 'PAIDOFF', 'PAIDOFF', 'PAIDOFF',\n",
       "       'COLLECTION', 'PAIDOFF', 'PAIDOFF', 'PAIDOFF', 'PAIDOFF',\n",
       "       'PAIDOFF', 'COLLECTION', 'COLLECTION', 'PAIDOFF', 'COLLECTION',\n",
       "       'COLLECTION', 'PAIDOFF', 'PAIDOFF', 'PAIDOFF', 'PAIDOFF',\n",
       "       'PAIDOFF', 'PAIDOFF', 'PAIDOFF', 'PAIDOFF', 'PAIDOFF', 'PAIDOFF',\n",
       "       'PAIDOFF', 'COLLECTION', 'PAIDOFF', 'PAIDOFF', 'PAIDOFF',\n",
       "       'PAIDOFF', 'COLLECTION', 'PAIDOFF', 'PAIDOFF', 'PAIDOFF',\n",
       "       'PAIDOFF', 'PAIDOFF', 'PAIDOFF', 'PAIDOFF', 'PAIDOFF', 'PAIDOFF',\n",
       "       'PAIDOFF', 'PAIDOFF', 'PAIDOFF', 'PAIDOFF', 'PAIDOFF', 'PAIDOFF',\n",
       "       'PAIDOFF', 'PAIDOFF', 'PAIDOFF', 'PAIDOFF', 'COLLECTION',\n",
       "       'PAIDOFF', 'PAIDOFF', 'PAIDOFF', 'PAIDOFF', 'PAIDOFF', 'PAIDOFF'],\n",
       "      dtype=object)"
      ]
     },
     "execution_count": 58,
     "metadata": {},
     "output_type": "execute_result"
    }
   ],
   "source": [
    "yhat = SVM_model.predict(X_test)\n",
    "yhat"
   ]
  },
  {
   "cell_type": "markdown",
   "metadata": {},
   "source": [
    "# Logistic Regression"
   ]
  },
  {
   "cell_type": "code",
   "execution_count": 59,
   "metadata": {},
   "outputs": [
    {
     "data": {
      "text/plain": [
       "LogisticRegression(C=0.01)"
      ]
     },
     "execution_count": 59,
     "metadata": {},
     "output_type": "execute_result"
    }
   ],
   "source": [
    "from sklearn.linear_model import LogisticRegression\n",
    "LR_model = LogisticRegression(C=0.01).fit(X_train,y_train)\n",
    "LR_model"
   ]
  },
  {
   "cell_type": "code",
   "execution_count": 60,
   "metadata": {},
   "outputs": [
    {
     "data": {
      "text/plain": [
       "array(['PAIDOFF', 'PAIDOFF', 'PAIDOFF', 'PAIDOFF', 'PAIDOFF', 'PAIDOFF',\n",
       "       'PAIDOFF', 'PAIDOFF', 'PAIDOFF', 'PAIDOFF', 'PAIDOFF', 'PAIDOFF',\n",
       "       'PAIDOFF', 'PAIDOFF', 'PAIDOFF', 'PAIDOFF', 'PAIDOFF', 'PAIDOFF',\n",
       "       'PAIDOFF', 'PAIDOFF', 'PAIDOFF', 'PAIDOFF', 'PAIDOFF', 'PAIDOFF',\n",
       "       'PAIDOFF', 'PAIDOFF', 'PAIDOFF', 'PAIDOFF', 'PAIDOFF', 'PAIDOFF',\n",
       "       'PAIDOFF', 'PAIDOFF', 'PAIDOFF', 'PAIDOFF', 'PAIDOFF', 'PAIDOFF',\n",
       "       'PAIDOFF', 'PAIDOFF', 'PAIDOFF', 'PAIDOFF', 'PAIDOFF', 'PAIDOFF',\n",
       "       'PAIDOFF', 'PAIDOFF', 'PAIDOFF', 'PAIDOFF', 'PAIDOFF', 'PAIDOFF',\n",
       "       'PAIDOFF', 'PAIDOFF', 'PAIDOFF', 'PAIDOFF', 'PAIDOFF', 'PAIDOFF',\n",
       "       'PAIDOFF', 'PAIDOFF', 'PAIDOFF', 'PAIDOFF', 'PAIDOFF', 'PAIDOFF',\n",
       "       'PAIDOFF', 'PAIDOFF', 'PAIDOFF', 'PAIDOFF', 'PAIDOFF', 'PAIDOFF',\n",
       "       'PAIDOFF', 'PAIDOFF', 'PAIDOFF', 'PAIDOFF'], dtype=object)"
      ]
     },
     "execution_count": 60,
     "metadata": {},
     "output_type": "execute_result"
    }
   ],
   "source": [
    "yhat = LR_model.predict(X_test)\n",
    "yhat"
   ]
  },
  {
   "cell_type": "markdown",
   "metadata": {},
   "source": [
    "# Model Evaluation using Test set"
   ]
  },
  {
   "cell_type": "code",
   "execution_count": 68,
   "metadata": {},
   "outputs": [],
   "source": [
    "from sklearn.metrics import jaccard_score\n",
    "from sklearn.metrics import f1_score\n",
    "from sklearn.metrics import log_loss"
   ]
  },
  {
   "cell_type": "markdown",
   "metadata": {},
   "source": [
    "First, download and load the test set:"
   ]
  },
  {
   "cell_type": "code",
   "execution_count": 69,
   "metadata": {},
   "outputs": [
    {
     "name": "stdout",
     "output_type": "stream",
     "text": [
      "--2021-06-08 19:23:31--  https://s3-api.us-geo.objectstorage.softlayer.net/cf-courses-data/CognitiveClass/ML0101ENv3/labs/loan_test.csv\n",
      "Resolving s3-api.us-geo.objectstorage.softlayer.net (s3-api.us-geo.objectstorage.softlayer.net)... 67.228.254.196\n",
      "Connecting to s3-api.us-geo.objectstorage.softlayer.net (s3-api.us-geo.objectstorage.softlayer.net)|67.228.254.196|:443... connected.\n",
      "HTTP request sent, awaiting response... 200 OK\n",
      "Length: 3642 (3.6K) [text/csv]\n",
      "Saving to: ‘loan_test.csv’\n",
      "\n",
      "loan_test.csv       100%[===================>]   3.56K  --.-KB/s    in 0s      \n",
      "\n",
      "2021-06-08 19:23:32 (80.7 MB/s) - ‘loan_test.csv’ saved [3642/3642]\n",
      "\n"
     ]
    }
   ],
   "source": [
    "!wget -O loan_test.csv https://s3-api.us-geo.objectstorage.softlayer.net/cf-courses-data/CognitiveClass/ML0101ENv3/labs/loan_test.csv"
   ]
  },
  {
   "cell_type": "markdown",
   "metadata": {},
   "source": [
    "## Load Test set for evaluation"
   ]
  },
  {
   "cell_type": "code",
   "execution_count": 70,
   "metadata": {},
   "outputs": [
    {
     "data": {
      "text/html": [
       "<div>\n",
       "<style scoped>\n",
       "    .dataframe tbody tr th:only-of-type {\n",
       "        vertical-align: middle;\n",
       "    }\n",
       "\n",
       "    .dataframe tbody tr th {\n",
       "        vertical-align: top;\n",
       "    }\n",
       "\n",
       "    .dataframe thead th {\n",
       "        text-align: right;\n",
       "    }\n",
       "</style>\n",
       "<table border=\"1\" class=\"dataframe\">\n",
       "  <thead>\n",
       "    <tr style=\"text-align: right;\">\n",
       "      <th></th>\n",
       "      <th>Unnamed: 0</th>\n",
       "      <th>Unnamed: 0.1</th>\n",
       "      <th>loan_status</th>\n",
       "      <th>Principal</th>\n",
       "      <th>terms</th>\n",
       "      <th>effective_date</th>\n",
       "      <th>due_date</th>\n",
       "      <th>age</th>\n",
       "      <th>education</th>\n",
       "      <th>Gender</th>\n",
       "    </tr>\n",
       "  </thead>\n",
       "  <tbody>\n",
       "    <tr>\n",
       "      <th>0</th>\n",
       "      <td>1</td>\n",
       "      <td>1</td>\n",
       "      <td>PAIDOFF</td>\n",
       "      <td>1000</td>\n",
       "      <td>30</td>\n",
       "      <td>9/8/2016</td>\n",
       "      <td>10/7/2016</td>\n",
       "      <td>50</td>\n",
       "      <td>Bechalor</td>\n",
       "      <td>female</td>\n",
       "    </tr>\n",
       "    <tr>\n",
       "      <th>1</th>\n",
       "      <td>5</td>\n",
       "      <td>5</td>\n",
       "      <td>PAIDOFF</td>\n",
       "      <td>300</td>\n",
       "      <td>7</td>\n",
       "      <td>9/9/2016</td>\n",
       "      <td>9/15/2016</td>\n",
       "      <td>35</td>\n",
       "      <td>Master or Above</td>\n",
       "      <td>male</td>\n",
       "    </tr>\n",
       "    <tr>\n",
       "      <th>2</th>\n",
       "      <td>21</td>\n",
       "      <td>21</td>\n",
       "      <td>PAIDOFF</td>\n",
       "      <td>1000</td>\n",
       "      <td>30</td>\n",
       "      <td>9/10/2016</td>\n",
       "      <td>10/9/2016</td>\n",
       "      <td>43</td>\n",
       "      <td>High School or Below</td>\n",
       "      <td>female</td>\n",
       "    </tr>\n",
       "    <tr>\n",
       "      <th>3</th>\n",
       "      <td>24</td>\n",
       "      <td>24</td>\n",
       "      <td>PAIDOFF</td>\n",
       "      <td>1000</td>\n",
       "      <td>30</td>\n",
       "      <td>9/10/2016</td>\n",
       "      <td>10/9/2016</td>\n",
       "      <td>26</td>\n",
       "      <td>college</td>\n",
       "      <td>male</td>\n",
       "    </tr>\n",
       "    <tr>\n",
       "      <th>4</th>\n",
       "      <td>35</td>\n",
       "      <td>35</td>\n",
       "      <td>PAIDOFF</td>\n",
       "      <td>800</td>\n",
       "      <td>15</td>\n",
       "      <td>9/11/2016</td>\n",
       "      <td>9/25/2016</td>\n",
       "      <td>29</td>\n",
       "      <td>Bechalor</td>\n",
       "      <td>male</td>\n",
       "    </tr>\n",
       "  </tbody>\n",
       "</table>\n",
       "</div>"
      ],
      "text/plain": [
       "   Unnamed: 0  Unnamed: 0.1 loan_status  Principal  terms effective_date  \\\n",
       "0           1             1     PAIDOFF       1000     30       9/8/2016   \n",
       "1           5             5     PAIDOFF        300      7       9/9/2016   \n",
       "2          21            21     PAIDOFF       1000     30      9/10/2016   \n",
       "3          24            24     PAIDOFF       1000     30      9/10/2016   \n",
       "4          35            35     PAIDOFF        800     15      9/11/2016   \n",
       "\n",
       "    due_date  age             education  Gender  \n",
       "0  10/7/2016   50              Bechalor  female  \n",
       "1  9/15/2016   35       Master or Above    male  \n",
       "2  10/9/2016   43  High School or Below  female  \n",
       "3  10/9/2016   26               college    male  \n",
       "4  9/25/2016   29              Bechalor    male  "
      ]
     },
     "execution_count": 70,
     "metadata": {},
     "output_type": "execute_result"
    }
   ],
   "source": [
    "test_df = pd.read_csv('loan_test.csv')\n",
    "test_df.head()"
   ]
  },
  {
   "cell_type": "code",
   "execution_count": 71,
   "metadata": {},
   "outputs": [
    {
     "data": {
      "text/plain": [
       "array([[ 0.49362588,  0.92844966,  3.05981865,  1.97714211, -1.30384048,\n",
       "         2.39791576, -0.79772404, -0.86135677],\n",
       "       [-3.56269116, -1.70427745,  0.53336288, -0.50578054,  0.76696499,\n",
       "        -0.41702883, -0.79772404, -0.86135677],\n",
       "       [ 0.49362588,  0.92844966,  1.88080596,  1.97714211,  0.76696499,\n",
       "        -0.41702883,  1.25356634, -0.86135677],\n",
       "       [ 0.49362588,  0.92844966, -0.98251057, -0.50578054,  0.76696499,\n",
       "        -0.41702883, -0.79772404,  1.16095912],\n",
       "       [-0.66532184, -0.78854628, -0.47721942, -0.50578054,  0.76696499,\n",
       "         2.39791576, -0.79772404, -0.86135677]])"
      ]
     },
     "execution_count": 71,
     "metadata": {},
     "output_type": "execute_result"
    }
   ],
   "source": [
    "## Preprocessing\n",
    "test_df['due_date'] = pd.to_datetime(test_df['due_date'])\n",
    "test_df['effective_date'] = pd.to_datetime(test_df['effective_date'])\n",
    "test_df['dayofweek'] = test_df['effective_date'].dt.dayofweek\n",
    "test_df['weekend'] = test_df['dayofweek'].apply(lambda x: 1 if (x>3)  else 0)\n",
    "test_df['Gender'].replace(to_replace=['male','female'], value=[0,1],inplace=True)\n",
    "test_Feature = test_df[['Principal','terms','age','Gender','weekend']]\n",
    "test_Feature = pd.concat([test_Feature,pd.get_dummies(test_df['education'])], axis=1)\n",
    "test_Feature.drop(['Master or Above'], axis = 1,inplace=True)\n",
    "test_X = preprocessing.StandardScaler().fit(test_Feature).transform(test_Feature)\n",
    "test_X[0:5]"
   ]
  },
  {
   "cell_type": "code",
   "execution_count": 72,
   "metadata": {},
   "outputs": [
    {
     "data": {
      "text/plain": [
       "array(['PAIDOFF', 'PAIDOFF', 'PAIDOFF', 'PAIDOFF', 'PAIDOFF'],\n",
       "      dtype=object)"
      ]
     },
     "execution_count": 72,
     "metadata": {},
     "output_type": "execute_result"
    }
   ],
   "source": [
    "test_y = test_df['loan_status'].values\n",
    "test_y[0:5]"
   ]
  },
  {
   "cell_type": "code",
   "execution_count": 74,
   "metadata": {},
   "outputs": [
    {
     "name": "stdout",
     "output_type": "stream",
     "text": [
      "KNN Jaccard index: 0.65\n",
      "KNN F1-score: 0.63\n"
     ]
    }
   ],
   "source": [
    "knn_yhat = kNN_model.predict(test_X)\n",
    "print(\"KNN Jaccard index: %.2f\" % jaccard_score(test_y, knn_yhat,pos_label='PAIDOFF'))\n",
    "print(\"KNN F1-score: %.2f\" % f1_score(test_y, knn_yhat, average='weighted') )"
   ]
  },
  {
   "cell_type": "code",
   "execution_count": 76,
   "metadata": {},
   "outputs": [
    {
     "name": "stdout",
     "output_type": "stream",
     "text": [
      "DT Jaccard index: 0.66\n",
      "DT F1-score: 0.74\n"
     ]
    }
   ],
   "source": [
    "DT_yhat = DT_model.predict(test_X)\n",
    "print(\"DT Jaccard index: %.2f\" % jaccard_score(test_y, DT_yhat,pos_label='PAIDOFF'))\n",
    "print(\"DT F1-score: %.2f\" % f1_score(test_y, DT_yhat, average='weighted') )"
   ]
  },
  {
   "cell_type": "code",
   "execution_count": 77,
   "metadata": {},
   "outputs": [
    {
     "name": "stdout",
     "output_type": "stream",
     "text": [
      "SVM Jaccard index: 0.78\n",
      "SVM F1-score: 0.76\n"
     ]
    }
   ],
   "source": [
    "SVM_yhat = SVM_model.predict(test_X)\n",
    "print(\"SVM Jaccard index: %.2f\" % jaccard_score(test_y, SVM_yhat,pos_label='PAIDOFF'))\n",
    "print(\"SVM F1-score: %.2f\" % f1_score(test_y, SVM_yhat, average='weighted') )"
   ]
  },
  {
   "cell_type": "code",
   "execution_count": 78,
   "metadata": {},
   "outputs": [
    {
     "name": "stdout",
     "output_type": "stream",
     "text": [
      "LR Jaccard index: 0.74\n",
      "LR F1-score: 0.63\n",
      "LR LogLoss: 0.52\n"
     ]
    }
   ],
   "source": [
    "LR_yhat = LR_model.predict(test_X)\n",
    "LR_yhat_prob = LR_model.predict_proba(test_X)\n",
    "print(\"LR Jaccard index: %.2f\" % jaccard_score(test_y, LR_yhat,pos_label='PAIDOFF'))\n",
    "print(\"LR F1-score: %.2f\" % f1_score(test_y, LR_yhat, average='weighted') )\n",
    "print(\"LR LogLoss: %.2f\" % log_loss(test_y, LR_yhat_prob))"
   ]
  },
  {
   "cell_type": "markdown",
   "metadata": {},
   "source": [
    "# Report\n",
    "You should be able to report the accuracy of the built model using different evaluation metrics:"
   ]
  },
  {
   "cell_type": "markdown",
   "metadata": {},
   "source": [
    "| Algorithm          | Jaccard | F1-score | LogLoss |\n",
    "|--------------------|---------|----------|---------|\n",
    "| KNN                | 0.65    | 0.63     | NA      |\n",
    "| Decision Tree      | 0.66    | 0.74     | NA      |\n",
    "| SVM                | 0.78    | 0.76     | NA      |\n",
    "| LogisticRegression | 0.74    | 0.63     | 0.52    |"
   ]
  },
  {
   "cell_type": "markdown",
   "metadata": {},
   "source": [
    "## Want to learn more?\n",
    "\n",
    "IBM SPSS Modeler is a comprehensive analytics platform that has many machine learning algorithms. It has been designed to bring predictive intelligence to decisions made by individuals, by groups, by systems – by your enterprise as a whole. A free trial is available through this course, available here: [SPSS Modeler](http://cocl.us/ML0101EN-SPSSModeler).\n",
    "\n",
    "Also, you can use Watson Studio to run these notebooks faster with bigger datasets. Watson Studio is IBM's leading cloud solution for data scientists, built by data scientists. With Jupyter notebooks, RStudio, Apache Spark and popular libraries pre-packaged in the cloud, Watson Studio enables data scientists to collaborate on their projects without having to install anything. Join the fast-growing community of Watson Studio users today with a free account at [Watson Studio](https://cocl.us/ML0101EN_DSX)\n",
    "\n",
    "\n",
    "<hr>\n",
    "Copyright &copy; 2018 [Cognitive Class](https://cocl.us/DX0108EN_CC). This notebook and its source code are released under the terms of the [MIT License](https://bigdatauniversity.com/mit-license/).​"
   ]
  },
  {
   "cell_type": "markdown",
   "metadata": {},
   "source": [
    "### Thanks for completing this lesson!\n",
    "\n",
    "Notebook created by: <a href = \"https://ca.linkedin.com/in/saeedaghabozorgi\">Saeed Aghabozorgi</a>"
   ]
  }
 ],
 "metadata": {
  "kernelspec": {
   "display_name": "Python 3.7",
   "language": "python",
   "name": "python3"
  },
  "language_info": {
   "codemirror_mode": {
    "name": "ipython",
    "version": 3
   },
   "file_extension": ".py",
   "mimetype": "text/x-python",
   "name": "python",
   "nbconvert_exporter": "python",
   "pygments_lexer": "ipython3",
   "version": "3.7.10"
  }
 },
 "nbformat": 4,
 "nbformat_minor": 1
}
